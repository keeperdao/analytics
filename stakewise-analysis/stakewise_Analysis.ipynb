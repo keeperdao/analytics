{
 "cells": [
  {
   "cell_type": "code",
   "execution_count": 1,
   "metadata": {},
   "outputs": [],
   "source": [
    "#Written using Python 3.9.7\n",
    "#Author: icebreaker, April 2022\n",
    "\n",
    "from time import sleep, time\n",
    "from web3 import Web3\n",
    "import numpy as np\n",
    "from scipy.stats import norm\n",
    "from os.path import exists\n",
    "from hexbytes import HexBytes\n",
    "from datetime import datetime\n",
    "import pandas as pd\n",
    "import seaborn as sns\n",
    "import matplotlib as mpl\n",
    "import matplotlib.pyplot as plt\n",
    "import warnings\n",
    "\n",
    "pd.options.display.float_format = '{:.2f}'.format\n",
    "warnings.filterwarnings(\"ignore\")\n",
    "\n",
    "#ETHERSCAN_API_KEY = os.getenv(\"ETHERSCAN_API_KEY\")\n",
    "INFURA_KEY = os.getenv(\"INFURA_KEY\")\n",
    "#INFURA_KEY = os.getenv(\"INFURA_KEY\")\n",
    "ETHERSCAN_API_KEY = os.getenv(\"ETHERSCAN_API_KEY\")\n",
    "\n",
    "ETHERSCAN_API_BASE_URL = \"https://api.etherscan.io/api\"\n",
    "\n",
    "w3 = Web3(Web3.HTTPProvider(\"https://mainnet.infura.io/v3/{}\".format(INFURA_KEY)))"
   ]
  },
  {
   "cell_type": "code",
   "execution_count": null,
   "metadata": {},
   "outputs": [],
   "source": [
    "##Scrape all Transfer calls on sETH2 ERC-20 - this forms the basis of df containing all uniswap trades and mint(s)\n",
    "def findTargetTX(startBlock, blockStep, _targetContract, _targetEventTopicSignature, _fileNamePreFix):\n",
    "    targetContract = _targetContract\n",
    "    targetEventTopicSignature = _targetEventTopicSignature\n",
    "    fileNamePreFix = _fileNamePreFix\n",
    "    latestBlockNumber = startBlock\n",
    "    currentBlockNumber = w3.eth.get_block_number()\n",
    "    filteredTXs = []\n",
    "\n",
    "    while latestBlockNumber < currentBlockNumber:\n",
    "        borrowFilter = w3.eth.filter(\n",
    "            {\n",
    "                \"fromBlock\": latestBlockNumber,\n",
    "                \"toBlock\": latestBlockNumber + blockStep,\n",
    "                \"address\": targetContract,\n",
    "                \"topics\": [targetEventTopicSignature],\n",
    "            }\n",
    "        )\n",
    "        txLogs = w3.eth.get_filter_logs(borrowFilter.filter_id)\n",
    "\n",
    "        if len(txLogs):\n",
    "            ts = pd.to_datetime((w3.eth.get_block(latestBlockNumber)[\"timestamp\"]), unit='s').to_datetime64()\n",
    "            print(\n",
    "                datetime.now().strftime(\"%H:%M:%S\"), \n",
    "                \"Time: {} Covering Block {}-{}: Found {} {} Transfer events\".format(\n",
    "                    ts,\n",
    "                    latestBlockNumber,\n",
    "                    latestBlockNumber + blockStep,\n",
    "                    len(txLogs),\n",
    "                    fileNamePreFix\n",
    "                )\n",
    "            )\n",
    "            idx = 0\n",
    "            # For each borrow log found, scrape the txn involving that log and get gas data\n",
    "            for log in txLogs:\n",
    "                txnHash = log[\"transactionHash\"]\n",
    "                print(\"Getting TX: \",txnHash, \" \", idx, \" of\", len(txLogs))\n",
    "\n",
    "                txn = w3.eth.get_transaction(txnHash)\n",
    "                gasLimit = txn[\"gas\"]\n",
    "                gasPrice = txn[\"gasPrice\"]\n",
    "                blockNumber = txn[\"blockNumber\"]\n",
    "\n",
    "                txnReceipt = w3.eth.get_transaction_receipt(txnHash)\n",
    "                gasUsed = txnReceipt[\"gasUsed\"]\n",
    "\n",
    "                block = w3.eth.get_block(blockNumber)\n",
    "                timestamp = block[\"timestamp\"]\n",
    "\n",
    "                dataStr = log[\"data\"][2:]\n",
    "                data = [dataStr[i : i + 64] for i in range(0, len(dataStr), 64)]\n",
    "\n",
    "                filteredTXs.append(\n",
    "                    {\n",
    "                        \"txHash\": txnHash.hex(),\n",
    "                        \"gasLimit\": int(gasLimit),\n",
    "                        \"gasUsed\": int(gasUsed),\n",
    "                        \"gasPrice\": int(gasPrice),\n",
    "                        \"timestamp\": timestamp,\n",
    "                        \"blockNumber\": blockNumber,\n",
    "                        \"from\": txn[\"from\"],\n",
    "                        \"to\": txn[\"to\"],\n",
    "                        'transferFrom' : log.topics[1][-20:].hex(),\n",
    "                        'transferTo' : log.topics[2][-20:].hex(),\n",
    "                        'amountTransferedHex' : data[0],\n",
    "                        'amountTransferedDecimal' : int(data[0],16)/10e17\n",
    "                    }\n",
    "                )\n",
    "                idx += 1\n",
    "        latestBlockNumber += blockStep\n",
    "        # sleep to avoid getting rate limited\n",
    "        sleep(0.001)\n",
    "        #np.save(fileNamePreFix + \"filteredTransactions\", np.array(filteredTXs), allow_pickle=True)\n",
    "\n",
    "    # Save all the order fill data in a pickle file\n",
    "    print(\"Found {} total lendingpool \", fileNamePreFix ,\" fills\".format(len(filteredTXs)))\n",
    "    return filteredTXs"
   ]
  },
  {
   "cell_type": "code",
   "execution_count": null,
   "metadata": {},
   "outputs": [],
   "source": [
    "sETH2 = '0xFe2e637202056d30016725477c5da089Ab0A043A'\n",
    "topicSig = '0xddf252ad1be2c89b69c2b068fc378daa952ba7f163c4a11628f55a4df523b3ef' #transfer events, mint is a special case where sender = 0x0\n",
    "\n",
    "currentBlockNumber = w3.eth.get_block_number()\n",
    "\n",
    "#Finding and scraping onchain tx's of interest takes approximately ~2 hours via infura\n",
    "v2Events = findTargetTX(11726304, 10000, sETH2, topicSig, 'sETH2Transfers')\n",
    "#v2Events = findTargetTX(12726304, 10000, sETH2, topicSig, 'sETH2Transfers') #debug line\n",
    "\n",
    "columnsFromScrape = [\"txHash\",\"gasLimit\",\"gasUsed\",\"gasPrice\", \"timestamp\",\"blockNumber\",\"from\",\"to\",'transferFrom','transferTo','amountTransferedHex', 'amountTransferedDecimal']\n",
    "finals = pd.DataFrame(v2Events, columns = columnsFromScrape)\n",
    "finals['datetime'] = list(map(lambda x: datetime.fromtimestamp(x).strftime('%Y-%m-%d %H:%M:%S.%f')[:-3], finals[\"timestamp\"]))\n",
    "\n",
    "combinedFills = pd.concat([finals])\n",
    "combinedFills.to_csv('transferEvents.csv')"
   ]
  },
  {
   "cell_type": "code",
   "execution_count": null,
   "metadata": {},
   "outputs": [],
   "source": [
    "combinedFills = pd.read_csv(\"transferEvents.csv\", index_col='datetime')\n",
    "combinedFills['datetime'] = list(map(lambda x: datetime.fromtimestamp(x).strftime('%Y-%m-%d %H:%M:%S.%f')[:-3], combinedFills[\"timestamp\"]))\n",
    "combinedFills.index = pd.to_datetime(combinedFills.index) \n",
    "type(combinedFills.index)"
   ]
  },
  {
   "cell_type": "code",
   "execution_count": null,
   "metadata": {},
   "outputs": [],
   "source": [
    "##PART TWO, Find natural sell flow from the UniV3 contract, this is defined as:\n",
    "#Filtering all sETH2 Transfer events where the recevier of the transfer is the UNIv3 sETH2/WETH pool (this captures sETH2 pool inflows)\n",
    "#Then filtering all TX's where there is no \"deposit\" event in the logs\n",
    "#Then removing any transactions where there is also a WETH transfer into the same sETH2/WETH pool (this helps filter out arbs/bots/other non natural flow)\n",
    "\n",
    "transferTopicSignature = \"0xddf252ad1be2c89b69c2b068fc378daa952ba7f163c4a11628f55a4df523b3ef\"\n",
    "depositTopicSignature = \"0xe1fffcc4923d04b559f4d29a8bfc6cda04eb5b0d3c460751c2402c5c5cc9109c\"\n",
    "depositToUniV3Output = '0x000000000000000000000000c36442b4a4522e871399cd717abdd847ab11fe88'\n",
    "wethAdd = '0xC02aaA39b223FE8D0A0e5C4F27eAD9083C756Cc2'\n",
    "\n",
    "sellTransactions = []\n",
    "sellEvents = pd.read_csv(\"sellEvents.csv\")\n",
    "depositEvents = []\n",
    "\n",
    "#Download enhanced data from the chain\n",
    "\n",
    "for log in range(0, len(sellEvents)):\n",
    "    print(\"Getting TX \", log, \"  of\", len(sellEvents))\n",
    "    txnHash = sellEvents['txHashOfSell'][log]\n",
    "    #txnHash = '0xb247c4d01e521fa4e5db280ef907b43aa5639e427d5183940a745adc168cd2e8'\n",
    "    txDetails = w3.eth.get_transaction(txnHash)\n",
    "    txReceipt = w3.eth.get_transaction_receipt(txnHash)\n",
    "    txLogLen = len(txReceipt.logs)\n",
    "    \n",
    "    depositFound = False\n",
    "    ethTransferToUniFound = False\n",
    "    bothTrue = False\n",
    "    \n",
    "    for log in range(0,txLogLen):\n",
    "        #print(\"Working: \" , log/txLogLen, \"%\")\n",
    "        if txReceipt.logs[log].address == wethAdd:\n",
    "            for event in txReceipt.logs[log].topics:\n",
    "\n",
    "                if event.hex() == depositTopicSignature:\n",
    "                    ethTransferToUniFound = True\n",
    "                    print (txnHash, \"Found a ETH Depost to Uni event\", ethTransferToUniFound)\n",
    "\n",
    "                if event.hex() == depositToUniV3Output:\n",
    "                    depositFound = True\n",
    "                    print(txnHash, \"Found a ETH transfer deposit\", depositFound)\n",
    "                    \n",
    "    if depositFound & ethTransferToUniFound:\n",
    "        bothTrue = True\n",
    "\n",
    "    depositEvents.append([txnHash, txDetails.value, depositFound, ethTransferToUniFound, bothTrue])                \n",
    "    sleep(0.01)\n",
    "    \n",
    "depositEvents = pd.DataFrame (depositEvents, columns = ['txnHash', 'value', 'depositFound', 'ethTransferToUniFound', \"both\"])\n",
    "depositEvents.to_csv(\"depositEvents.csv\")"
   ]
  },
  {
   "cell_type": "code",
   "execution_count": null,
   "metadata": {},
   "outputs": [],
   "source": [
    "combinedFillsEnhanced = pd.merge(combinedFills, \n",
    "                     depositEvents, \n",
    "                     left_on ='txHash',\n",
    "                     right_on ='txnHash',\n",
    "                     how ='left')\n",
    "combinedFillsEnhanced.to_csv('combinedFillsEnhanced.csv')"
   ]
  },
  {
   "cell_type": "code",
   "execution_count": 3,
   "metadata": {},
   "outputs": [],
   "source": [
    "##PART 3 = This is where the analysis starts, if you are running this notebook start here, if you dont want to redownload all the raw data\n",
    "\n",
    "combinedFillsEnhanced = pd.read_csv(\"combinedFillsEnhanced.csv\", index_col='datetime')\n",
    "combinedFillsEnhanced['datetime'] = list(map(lambda x: datetime.fromtimestamp(x).strftime('%Y-%m-%d %H:%M:%S.%f')[:-3], combinedFillsEnhanced[\"timestamp\"]))\n",
    "combinedFillsEnhanced.index = pd.to_datetime(combinedFillsEnhanced['datetime']) \n",
    "combinedFillsEnhanced = combinedFillsEnhanced[combinedFillsEnhanced['datetime'] < '2022-04-26'] #cut to eod 25th april, avoids 26th which is incomplete and makes the DF messy\n"
   ]
  },
  {
   "cell_type": "code",
   "execution_count": 4,
   "metadata": {},
   "outputs": [],
   "source": [
    "uniEvents = combinedFillsEnhanced[(combinedFillsEnhanced['transferTo'] == '0x7379e81228514a1d2a6cf7559203998e20598346')] #Only look @ TX's where sETH being sent into the pool\n",
    "uniEvents = uniEvents[(uniEvents['both'] != True)] #Remove tx's where deposit event occurs in conjunction with \n",
    "uniEvents = uniEvents[(uniEvents['depositFound'] != True)]"
   ]
  },
  {
   "cell_type": "code",
   "execution_count": 5,
   "metadata": {},
   "outputs": [
    {
     "name": "stdout",
     "output_type": "stream",
     "text": [
      "All Time Sell Stats:\n",
      " Total natural sETH2 sold on uniV3:  28853.858815701402 \n",
      " Average gas used on Uni: 231468.1588966589 \n",
      " Count of natural sells on uniV3 2574 \n",
      " Average trade size in sETH2 11.209735359635355\n"
     ]
    }
   ],
   "source": [
    "sellGasUni = uniEvents.gasUsed.mean() #Average gas paid for swapping on univ3\n",
    "totalSoldOnUni = uniEvents.amountTransferedDecimal.sum() #total Amount sold on Uni\n",
    "countSellTradesOnUni = uniEvents.amountTransferedDecimal.count() #total Amount sold on Uni\n",
    "print(\"All Time Sell Stats:\\n Total natural sETH2 sold on uniV3: \",totalSoldOnUni, \"\\n\",\n",
    "\"Average gas used on Uni:\", sellGasUni, \"\\n\",\n",
    "\"Count of natural sells on uniV3\", countSellTradesOnUni, \"\\n\",\n",
    "\"Average trade size in sETH2\", totalSoldOnUni/countSellTradesOnUni)\n"
   ]
  },
  {
   "cell_type": "code",
   "execution_count": 6,
   "metadata": {},
   "outputs": [
    {
     "name": "stdout",
     "output_type": "stream",
     "text": [
      "All Time Mint Stats:\n",
      " Total sETH2 minted:  58361.437783318215 \n",
      " Average gas used to mint: 99986.31011826544 \n",
      " Times seth2 has been minted 6088 \n",
      " Average mint size in sETH2 9.586307126037815\n"
     ]
    }
   ],
   "source": [
    "#Collect Mint Events and resample frequncy to day level granularity\n",
    "mintEvents = combinedFillsEnhanced[combinedFillsEnhanced['transferFrom'] == '0x0000000000000000000000000000000000000000']\n",
    "mintGas = mintEvents.gasUsed.mean() #Average gas paid for swapping on univ3\n",
    "totalMinted = mintEvents.amountTransferedDecimal.sum() #total Amount sold on Uni\n",
    "countOfMintEvents = mintEvents.amountTransferedDecimal.count() #total Amount sold on Uni\n",
    "print(\"All Time Mint Stats:\\n Total sETH2 minted: \",totalMinted, \"\\n\",\n",
    "\"Average gas used to mint:\", mintGas, \"\\n\",\n",
    "\"Times seth2 has been minted\", countOfMintEvents, \"\\n\",\n",
    "\"Average mint size in sETH2\", totalMinted/countOfMintEvents)\n",
    "\n",
    "\n",
    "\n",
    "#weeklyRollingMintVolumeAvg = dailyMintVolume.rolling(7).mean()"
   ]
  },
  {
   "cell_type": "code",
   "execution_count": 19,
   "metadata": {},
   "outputs": [],
   "source": [
    "frequency = '1d'\n",
    "dailyUNISellSums = uniEvents.resample(frequency).sum()\n",
    "dailyUNISellMeans = uniEvents.resample(frequency).mean()\n",
    "\n",
    "dailyUNISellCounts = uniEvents.resample(frequency).count()\n",
    "dailyMintSums = mintEvents.resample(frequency).sum()\n",
    "dailyMintCounts = mintEvents.resample(frequency).count()"
   ]
  },
  {
   "cell_type": "code",
   "execution_count": 20,
   "metadata": {},
   "outputs": [],
   "source": [
    "consolidatedFacts = pd.DataFrame([], columns=())\n",
    "consolidatedFacts['avgMintTXGas' + \"_\" + frequency] = dailyMintSums['gasUsed'] / dailyMintCounts['gasUsed']\n",
    "consolidatedFacts['sumMintGas'+ \"_\" + frequency] = dailyMintSums['gasUsed']\n",
    "consolidatedFacts['mintTXCounts'+ \"_\" + frequency] = dailyMintCounts['gasUsed']\n",
    "consolidatedFacts['sumMinted_sETH2'+ \"_\" + frequency] = dailyMintSums['amountTransferedDecimal']\n",
    "\n",
    "consolidatedFacts['avgSellTXGas'+ \"_\" + frequency] = dailyUNISellSums['gasUsed'] / dailyUNISellCounts['gasUsed']\n",
    "consolidatedFacts['sumSellGas'+ \"_\" + frequency] = dailyUNISellSums['gasUsed'] \n",
    "consolidatedFacts['sellTXCounts'+ \"_\" + frequency] = dailyUNISellCounts['gasUsed']\n",
    "consolidatedFacts['sumSold_sETH2'+ \"_\" + frequency] = dailyUNISellSums['amountTransferedDecimal'] \n",
    "consolidatedFacts['avgGasPricePaidOnSell'+ \"_\" + frequency] = dailyUNISellMeans['gasPrice']\n"
   ]
  },
  {
   "cell_type": "code",
   "execution_count": 29,
   "metadata": {},
   "outputs": [],
   "source": [
    "#Calc the end result\n",
    "gasCostToTransfer_sETH2 = 95000\n",
    "gasCostToTransfer_ETH = 21000\n",
    "consolidatedFacts['mintsAvoidable_Full_Volume'] = consolidatedFacts['sumSold_sETH2_1d']  >=  consolidatedFacts['sumMinted_sETH2_1d'] \n",
    "consolidatedFacts['mintsPotentiallyCrossableCoverage_Percentage'] = consolidatedFacts['sumSold_sETH2_1d'] /  consolidatedFacts['sumMinted_sETH2_1d'] \n",
    "#set max crossable amount at 100% (in the event more sell vol was done than minting)\n",
    "consolidatedFacts['mintsPotentiallyCrossableCoverage_Percentage'].values[consolidatedFacts['mintsPotentiallyCrossableCoverage_Percentage'].values > 1] = 1\n",
    "consolidatedFacts['costOfImplementingMaxTheoriticalCross'] = consolidatedFacts['mintsPotentiallyCrossableCoverage_Percentage'] *  consolidatedFacts['sellTXCounts_1d'] * (gasCostToTransfer_ETH + gasCostToTransfer_sETH2)\n",
    "consolidatedFacts['gasSavingOnMaxTheoriticalCross'] = (consolidatedFacts['mintsPotentiallyCrossableCoverage_Percentage'] *  consolidatedFacts['sumSellGas_1d']) -  consolidatedFacts['costOfImplementingMaxTheoriticalCross']\n",
    "consolidatedFacts['gasSavingOnMaxTheoriticalCross_PnL_in_ETH_AvgSellGasPx'] = ( consolidatedFacts['avgGasPricePaidOnSell_1d'] / 10e17) * consolidatedFacts['gasSavingOnMaxTheoriticalCross']"
   ]
  },
  {
   "cell_type": "code",
   "execution_count": 36,
   "metadata": {},
   "outputs": [],
   "source": [
    "consolidatedFacts.to_csv(\"finalResults.csv\")"
   ]
  },
  {
   "cell_type": "code",
   "execution_count": 37,
   "metadata": {},
   "outputs": [
    {
     "name": "stdout",
     "output_type": "stream",
     "text": [
      "Total Expected Savings, Assuming 100% of everything was crossed:\n"
     ]
    },
    {
     "data": {
      "text/plain": [
       "50083.62789121321"
      ]
     },
     "execution_count": 37,
     "metadata": {},
     "output_type": "execute_result"
    }
   ],
   "source": [
    "print(\"Total Expected Savings, Assuming 100% of everything was crossed:\")\n",
    "consolidatedFacts['gasSavingOnMaxTheoriticalCross_PnL_in_ETH_100GWEI_GasPx'].sum() * 3000"
   ]
  },
  {
   "cell_type": "code",
   "execution_count": null,
   "metadata": {},
   "outputs": [],
   "source": []
  }
 ],
 "metadata": {
  "interpreter": {
   "hash": "2a9575c58420cef24ec28954c6d8135f52e19e99e6a7cc26bd5467d79abb31f8"
  },
  "kernelspec": {
   "display_name": "Python 3.9.7 ('keeperDAO')",
   "language": "python",
   "name": "python3"
  },
  "language_info": {
   "codemirror_mode": {
    "name": "ipython",
    "version": 3
   },
   "file_extension": ".py",
   "mimetype": "text/x-python",
   "name": "python",
   "nbconvert_exporter": "python",
   "pygments_lexer": "ipython3",
   "version": "3.9.7"
  },
  "orig_nbformat": 4
 },
 "nbformat": 4,
 "nbformat_minor": 2
}
