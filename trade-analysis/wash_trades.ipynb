{
 "cells": [
  {
   "cell_type": "markdown",
   "id": "f275bb81",
   "metadata": {},
   "source": [
    "# Wash trades\n",
    "\n",
    "__DEFINITION__\n",
    "\n",
    "2 trades filled by a market maker that share a transaction hash where the maker/taker tokens of the first order are the taker/maker tokens of the second"
   ]
  },
  {
   "cell_type": "markdown",
   "id": "b511d3c5",
   "metadata": {},
   "source": [
    "## Prerequisites\n",
    "1. Install `psycopg2` \n",
    "    1. on macos, also need `brew install postgresql` to install\n",
    "    2. `pip3 install psycopg2`\n",
    "2. Install `pandas`\n",
    "3. Have access to a read only user to the database\n",
    "    1. DM perry for database credentials "
   ]
  },
  {
   "cell_type": "markdown",
   "id": "2e6faf16",
   "metadata": {},
   "source": [
    "### constants"
   ]
  },
  {
   "cell_type": "code",
   "execution_count": 1,
   "id": "790c0bfb",
   "metadata": {},
   "outputs": [],
   "source": [
    "API_ROOT = \"https://api.rook.fi/api/v1/\"\n",
    "MM_ENDPOINT = f\"{API_ROOT}coordinator/marketMakers\"\n",
    "AUCTIONS_ENDPOINT = f\"{API_ROOT}coordinator/auctions\"\n",
    "\n",
    "# connection constants\n",
    "PG_USER = \"readonly\"\n",
    "PG_PWD = \"\"\n",
    "PG_HOST = \"\"\n",
    "PG_DB = \"staging\""
   ]
  },
  {
   "cell_type": "markdown",
   "id": "d3704976",
   "metadata": {},
   "source": [
    "### imports"
   ]
  },
  {
   "cell_type": "code",
   "execution_count": 2,
   "id": "3e4ee7b4",
   "metadata": {},
   "outputs": [],
   "source": [
    "import math\n",
    "import psycopg2\n",
    "import requests\n",
    "import time\n",
    "\n",
    "import pandas as pd\n",
    "\n",
    "from collections import defaultdict"
   ]
  },
  {
   "cell_type": "markdown",
   "id": "d0169d8b",
   "metadata": {},
   "source": [
    "### db connection"
   ]
  },
  {
   "cell_type": "code",
   "execution_count": 3,
   "id": "5454b6ff",
   "metadata": {},
   "outputs": [],
   "source": [
    "conn = psycopg2.connect(\n",
    "    host=PG_HOST,\n",
    "    database=PG_DB,\n",
    "    user=PG_USER,\n",
    "    password=PG_PWD)"
   ]
  },
  {
   "cell_type": "code",
   "execution_count": 4,
   "id": "59317223",
   "metadata": {},
   "outputs": [],
   "source": [
    "cursor = conn.cursor()"
   ]
  },
  {
   "cell_type": "markdown",
   "id": "4074633f",
   "metadata": {},
   "source": [
    "### functions"
   ]
  },
  {
   "cell_type": "code",
   "execution_count": 5,
   "id": "0e9bc867",
   "metadata": {},
   "outputs": [],
   "source": [
    "def get_mms():\n",
    "    response = requests.get(MM_ENDPOINT).json()\n",
    "    return {mm[\"name\"]: {\"addresses\": mm[\"makerAddresses\"]} for mm in response}"
   ]
  },
  {
   "cell_type": "code",
   "execution_count": 6,
   "id": "80fe9a7c",
   "metadata": {},
   "outputs": [],
   "source": [
    "def get_order_fills(mm_addresses, cursor):\n",
    "    ofs = []\n",
    "    cursor.execute(\"SELECT * FROM public.orderfill\")\n",
    "    for order_fill in cursor:\n",
    "        txHash = order_fill[0]\n",
    "        orderHash = order_fill[1]\n",
    "        maker = order_fill[2]\n",
    "        makerToken = order_fill[4]\n",
    "        takerToken = order_fill[5]\n",
    "        timestamp = order_fill[-1]\n",
    "        \n",
    "        ofs.append(\n",
    "            {\n",
    "                \"txHash\": txHash,\n",
    "                \"orderHash\": orderHash,\n",
    "                \"makerToken\": makerToken,\n",
    "                \"takerToken\": takerToken,\n",
    "                \"maker\": maker,\n",
    "                \"timestamp\": timestamp,\n",
    "            }\n",
    "        )\n",
    "            \n",
    "\n",
    "    return ofs\n"
   ]
  },
  {
   "cell_type": "code",
   "execution_count": 7,
   "id": "32e70313",
   "metadata": {},
   "outputs": [],
   "source": [
    "mms = get_mms()\n",
    "reverse_mms = {\n",
    "    address: name for name, mm_obj in mms.items() for address in mm_obj[\"addresses\"]\n",
    "}\n",
    "get_maker_name = lambda address: reverse_mms.get(address, None)"
   ]
  },
  {
   "cell_type": "code",
   "execution_count": 8,
   "id": "d6819d9e",
   "metadata": {},
   "outputs": [],
   "source": [
    "def get_wash_trades(order_fills):\n",
    "    txHash_matched_orderFills = defaultdict(list)\n",
    "    for order_fill in order_fills:\n",
    "        txHash_matched_orderFills[order_fill[\"txHash\"]].append(order_fill)\n",
    "\n",
    "    # wash trades have to have at least 2 orderFills\n",
    "    potential_wash_trades = {\n",
    "        txHash: orderFills\n",
    "        for txHash, orderFills in txHash_matched_orderFills.items()\n",
    "        if len(orderFills) > 1\n",
    "    }\n",
    "    \n",
    "    wash_trades = []\n",
    "    for txHash, orderFills in potential_wash_trades.items():\n",
    "        \n",
    "        for i in range(len(orderFills) - 1):\n",
    "            maker1Name = get_maker_name(orderFills[i][\"maker\"])\n",
    "            for j in range(i + 1, len(orderFills)):\n",
    "                maker2Name = get_maker_name(orderFills[j][\"maker\"])\n",
    "                \n",
    "                # constraints to be a wash trade: \n",
    "                # 1. makerToken 1 == takerToken 2\n",
    "                # 2. takerToken 1 == makerToken 2\n",
    "                # 3. makerName 1 == makerName 2 OR either maker name is known and the other is None\n",
    "                makerTokenConstraint = orderFills[i][\"makerToken\"] == orderFills[j][\"takerToken\"]\n",
    "                takerTokenConstraint = orderFills[i][\"takerToken\"] == orderFills[j][\"makerToken\"]\n",
    "                makerConstraint = (maker1Name is not None) and (maker2Name is not None) and (maker1Name == maker2Name)\n",
    "                \n",
    "                if (\n",
    "                    makerTokenConstraint and takerTokenConstraint and makerConstraint\n",
    "                ):\n",
    "                    makerName = maker1Name if maker1Name else maker2Name\n",
    "                    wash_trades.append(\n",
    "                        (\n",
    "                            orderFills[i][\"txHash\"],\n",
    "                            orderFills[i][\"orderHash\"],\n",
    "                            orderFills[j][\"orderHash\"],\n",
    "                            orderFills[i][\"maker\"],\n",
    "                            orderFills[i][\"timestamp\"]\n",
    "                        )\n",
    "                    )\n",
    "    return wash_trades"
   ]
  },
  {
   "cell_type": "code",
   "execution_count": 9,
   "id": "95468e28",
   "metadata": {},
   "outputs": [],
   "source": [
    "def get_bid_amounts(order_hashes):\n",
    "    bids = {order_hash: 0 for order_hash in order_hashes}\n",
    "    \n",
    "    for i in range(math.ceil(len(order_hashes) / 30)):\n",
    "        startIdx = i * 30\n",
    "        endIdx = (i + 1) * 30\n",
    "    \n",
    "        request_params = {\"orderHashes\": order_hashes[startIdx:endIdx]}\n",
    "        response = requests.get(AUCTIONS_ENDPOINT, request_params).json()\n",
    "        \n",
    "        for auction in response:\n",
    "            winning_bids = [\n",
    "                bid[\"rook_etherUnits\"]\n",
    "                for bid in auction[\"bidList\"]\n",
    "                if bid[\"outcome\"] and bid[\"outcome\"][\"outcomeValue\"] > 0\n",
    "            ]\n",
    "            if not len(winning_bids):\n",
    "                continue\n",
    "            if len(winning_bids) > 1:\n",
    "                print(f\"{auction['orderHash']} has {len(winning_bids)} winning bids\")\n",
    "            bids[auction[\"orderHash\"]] = winning_bids[0]\n",
    "    return bids"
   ]
  },
  {
   "cell_type": "markdown",
   "id": "d422c6b3",
   "metadata": {},
   "source": [
    "### Execute "
   ]
  },
  {
   "cell_type": "code",
   "execution_count": 10,
   "id": "d497c37c",
   "metadata": {},
   "outputs": [],
   "source": [
    "addresses = [address for _, mm_obj in mms.items() for address in mm_obj[\"addresses\"]]"
   ]
  },
  {
   "cell_type": "code",
   "execution_count": 11,
   "id": "cfffc9d2",
   "metadata": {},
   "outputs": [],
   "source": [
    "order_fills = get_order_fills(addresses, cursor)"
   ]
  },
  {
   "cell_type": "code",
   "execution_count": 12,
   "id": "6e7bddb6",
   "metadata": {},
   "outputs": [
    {
     "name": "stdout",
     "output_type": "stream",
     "text": [
      "Found 123 potential wash trades\n"
     ]
    }
   ],
   "source": [
    "wash_trades = get_wash_trades(order_fills)\n",
    "print(f\"Found {len(wash_trades)} potential wash trades\")"
   ]
  },
  {
   "cell_type": "code",
   "execution_count": 13,
   "id": "b566b333",
   "metadata": {},
   "outputs": [],
   "source": [
    "orderHashes = list(\n",
    "        set(\n",
    "            [wash_trade[1] for wash_trade in wash_trades]\n",
    "            + [wash_trade[2] for wash_trade in wash_trades]\n",
    "        )\n",
    "    )"
   ]
  },
  {
   "cell_type": "code",
   "execution_count": 14,
   "id": "329ea5de",
   "metadata": {},
   "outputs": [],
   "source": [
    "bid_amounts = get_bid_amounts(orderHashes)"
   ]
  },
  {
   "cell_type": "code",
   "execution_count": 15,
   "id": "ae3b4092",
   "metadata": {},
   "outputs": [],
   "source": [
    "data = []\n",
    "for wash_trade in wash_trades:\n",
    "    (txHash, orderHash1, orderHash2, makerAddress, timestamp) = wash_trade\n",
    "    maker_name = reverse_mms[makerAddress] if makerAddress in reverse_mms else \"N/A\"\n",
    "    bidAmount = bid_amounts[orderHash1]\n",
    "    bidAmount2 = bid_amounts[orderHash2]\n",
    "    if bidAmount and not bidAmount2:\n",
    "        bidAmount2 = bidAmount\n",
    "    elif bidAmount2 and not bidAmount:\n",
    "        bidAmount = bidAmount2\n",
    "    if bidAmount != bidAmount2:\n",
    "        print(f\"bad data for\\ntxHash={txHash}, orderHash1={orderHash1}, orderHash2={orderHash2}\")\n",
    "        continue\n",
    "        \n",
    "    data.append((maker_name, makerAddress, orderHash1, orderHash2, txHash, bidAmount, timestamp))\n",
    "washTrade_df = pd.DataFrame(data=data, columns=[\"MarketMaker\", \"MakerAddress\", \"OrderHash1\", \"OrderHash2\", \"txHash\", \"bidAmount\", \"timestamp\"])\n",
    "\n",
    "    "
   ]
  },
  {
   "cell_type": "markdown",
   "id": "517b5ab6",
   "metadata": {},
   "source": [
    "## All potential wash trades for all time"
   ]
  },
  {
   "cell_type": "code",
   "execution_count": 16,
   "id": "18c897f9",
   "metadata": {},
   "outputs": [
    {
     "name": "stdout",
     "output_type": "stream",
     "text": [
      "    MarketMaker                                MakerAddress                                                          OrderHash1                                                          OrderHash2                                                              txHash  bidAmount   timestamp\n",
      "0    VolleyFire  0x96aea3a04627f96a038b348b4d34ac24df08820a  0xd4f60b3437961b91234d28487964193d0d65a7de4e739ffbba82aae472888ed4  0x06dcb5ff208d8052dcb0fca5e4571be9220adaf504eb63bb3134b92569448c9a  0x5939a6d502652e5b3dd552e31ee5ef8487ba7fcc8ce0fa023ab3fc324f9261c2   0.000000  1632167083\n",
      "1    VolleyFire  0x7b1886e49ab5433bb46f7258548092dc8cdca28b  0xcd6c470b138d8c772f4e5ba8e397572ac57c05a0115cc4c7a62fa0311a5dbfe9  0x5c47aad9771b01e61c7a3be6691bd3f4825c2fdb831a9a9fc604192d75dbf40c  0x066edb5f6aa88399cd951e4d3d3691b376e816ecb4402debc13e48037e564a7c   3.788693  1650255652\n",
      "2    VolleyFire  0x4a45afd5a9691407b2b8e6ed8052a511ee7f01e9  0x0ee9f19830ce27387fb526b0c3d5785588a9eb57683f0ad617f6aae6d1500f23  0x2768d5e2ffd0353abd52c20db73d2d964f168d46ad2839fea8de6fcd3440584a  0x7d1f3a9da8c9696937fecc2a5b6bc2e86038f0c8c060d514e91bf9eadce64f6c   0.011904  1650362587\n",
      "3    VolleyFire  0xcf9ebecaa4b1581b5566baacfb6d9933f9849032  0xf6f2344d3587b1fc950c95901f03e46d365d1de67cced0c8c6c328f25b5d372a  0x10b1e3f4eb2f3dac48a2ac3e3252632cc19f056c1efee3e90dcabd7374ef2294  0xb9312d20ae0f47c58a6b89b87a4857ff9d5298e3340f89cd787ba1507b155182   0.122354  1650541304\n",
      "4         Amber  0xc22dff5da50be663ca31e9b4b7d4d6dc887556f3  0x7f65b9a009ccfa85bc8ef976307a12d1e1d620d922d70a6c8f3c6cac9e76f708  0x8a8e96010552222d175229e07320026fc436ee0b1d8804fbca3fba3517786b43  0x2491cbd478620dcb4c1df5a1f7e97b0485a9dbaa0b010802dae8aa2ac7fa8154   1.856635  1651068153\n",
      "5         Amber  0xc22dff5da50be663ca31e9b4b7d4d6dc887556f3  0xb3e1edff1c817e3c21e40f7ccf804cfb3b26358f65a53887d1c1543716382da0  0xea92722fbd5f96a79ea43e363c539ec5e882627d5ec02d92156453e72daadc04  0x5feab32df73e988c22c95688d7a32f11eb8e28eb39501e6c9945f3ffb39bd950   1.727956  1651159003\n",
      "6         Amber  0xc22dff5da50be663ca31e9b4b7d4d6dc887556f3  0x1b5d8c27d1340eaceff6b7c225e7f615c38e718bca31ced04093ca497385e2f7  0xa97538711ed6de9f9d81a909f103b28f8ff995d748079f7f83aeb39207824bb7  0x6f4d1293dce82863c9f464adf6f7e1cf7b09ca940199a0b9e4da7592bb3bff54   0.891604  1651160732\n",
      "7         Amber  0xc22dff5da50be663ca31e9b4b7d4d6dc887556f3  0xd02af89e64ad14e4becfbc41511904dd3b291948d773c285904499a9d60f7008  0xf0a2cae651cf3b2638b0b0b4ff6637c99244d33e1924f84f6cf1bb2df286d856  0xe5e65796c06c5e3dabde9ca1e58fe904944cd765d26420cf5d5842e09022c421   0.120571  1651256319\n",
      "8         Amber  0xc22dff5da50be663ca31e9b4b7d4d6dc887556f3  0xec7822b82f395bf56305b13f75d0543f9492aaff0ad86259ee270eb950d61d61  0x5126f77e455de1db6a300d3d167afc13ac383e25a1169dfe4b0a528efabbf9c1  0x51040a795b12d285ef079ce1ca218958c99842e646654534da0d01b4d9397504   0.160665  1651596034\n",
      "9         Amber  0xc22dff5da50be663ca31e9b4b7d4d6dc887556f3  0x4354a06be23f61ecaf7d822aac37eeaf94e109475acaa129701dd98177e49dba  0x4c83ed70471d60fcb83d1c89cf3cf0ac55f99c89d7273dceaf8e8ed2b4b22874  0x2695b244a873738efab3387931550af36dacc1b2bf1729322a7b472199b6d806   0.336363  1651687943\n",
      "10        Amber  0xc22dff5da50be663ca31e9b4b7d4d6dc887556f3  0xa7ad4525f039a1eb6b3be936c67f1c857b09627d6cb4fbcfc3133fe90f44d528  0x95135afaba67263bc72248b5d2741e648fed77abf51874175f9c348da35d8bee  0x4832b998ef9cd38fe3834b75a31a9f76c850a42366e9346791443ae413fa9c04   0.046639  1651759946\n",
      "11        Amber  0xc22dff5da50be663ca31e9b4b7d4d6dc887556f3  0x59e85b0975bfae275d8373ae4408e9ac20d143332fd23482d36724dcb49fa6bf  0xb9eb23c77d112cc3b0f38f947797e23314e855782e73bdd0dbdee1c812c00c50  0x4e77f69a2eee86fb69f0bd26fcca8dc0b6c146e8de41dd2038a2c727129a4a9d   0.270929  1651842166\n",
      "12        Amber  0xc22dff5da50be663ca31e9b4b7d4d6dc887556f3  0xe7f6abd94c7efc785afc7c6c352ec9fa1da827c3dab294d6669862b892414fea  0x7f5eceb2b3dee5436e0946a829b30756ae92e30d5bd0d029279c0ea9887af94b  0xfa20786b534be7ec911170f1a8a5e17d0ee75f4e6e5830f4f0ba31916d3ab6e7   0.535665  1651844722\n",
      "13        Amber  0xc22dff5da50be663ca31e9b4b7d4d6dc887556f3  0x7bd5878bb73804238b6d74ef3ca14c8ae24992d60acbdd0d6bebe4e52985a1d1  0x0e446db4b05b4e068dd613626abf10a2d6cf9535fb16145ddc58ecd25f49776d  0xec730ba72e8732c1fdec10b686e68e1a7b614b2bbb5f71a80863f7c7a6df4b1d   2.072836  1651844998\n",
      "14        Amber  0xc22dff5da50be663ca31e9b4b7d4d6dc887556f3  0x801d43058cce9a215927eb354b0fdc7c1a393b0272c13bf1b74b36ac64f71971  0x230390b7d68685dbf409da9c88a21ce89925082c56fdeca2442f39a2fdb1a8dc  0x871bf8cfdb3ff327653387ca9994377139514709eef6d79cf23460e1c9415e29   0.107088  1651962752\n",
      "15        Amber  0xc22dff5da50be663ca31e9b4b7d4d6dc887556f3  0x73784ce0047941c19d6794de1a24c9801b80a1faf004b8e34e6f96503b4cdc18  0xeaedef6589954b80a63ccbc659dacf5637237cb9fa6a760a884d9d88ea85137c  0x196661b5a6cbce3e43f8fee491e93bfff3080ec59b3a9621d639596787437e7f   0.271908  1652112655\n",
      "16        Amber  0xc22dff5da50be663ca31e9b4b7d4d6dc887556f3  0x1b37999c42dbe90f4beb0d7395cbbe7a9112fd8e52a66298dc3042091c429f5b  0x2115c864c2e880b4ce153b14009a20ea8a5c96cbef0c0d1753af365b7368794f  0x59bd83178bfcf267a319c40b1297b81dc95928ff07c87d6717e83b053d4c26b3   0.961330  1652187619\n",
      "17        Amber  0xc22dff5da50be663ca31e9b4b7d4d6dc887556f3  0x095430b92e422ddae66425afb2a49278b2375b9f7f934f05a8f9ed1668913f13  0x3cf6205154800ffc281d359bbd2dd2cc6213ba878f015cce2a6856c825578c22  0xc7455844e29761a27a9c8545b5bbe3ac383dfdd4626795d91075c1c6d21cd9c9   1.150763  1652208187\n",
      "18        Amber  0xc22dff5da50be663ca31e9b4b7d4d6dc887556f3  0x1b5c615c9df88b7fa42eaaf2757787e50ebab054b3d52022662bad24dd8d5eb8  0xd4b267f4cba732efce3d6814937eff5d9315b0c646b21f166dcf68bf4aa846dd  0x059f3352f7bc9d663859b16a0807104c7b9137a36bdf1fed687362947639e66a   0.174684  1652208529\n",
      "19        Amber  0xc22dff5da50be663ca31e9b4b7d4d6dc887556f3  0x3c2d4671aaa421742fc5d9b14b137f2ea7862de90d21444492871e93e85af900  0x8e471f760e654aa4b016186e2b6543292cd8db3989968657070e45e96afbd653  0xb188920d956b99febc9644bf9fedcf0f43defe5d609cf72de4fa97708c991901   0.410467  1652215114\n",
      "20        Amber  0xc22dff5da50be663ca31e9b4b7d4d6dc887556f3  0x4197309becc5f1ad85722c39cdb0ca6a51c7bf5cfbe1d56437257d3181d71757  0x2f503689de6ea8a6efcd582e1a4b3573aee4920160db4adbbe0f9f5eb263cd0e  0x9e154ccd5b7123e446e1c59f385bbbbcf153ccb1da69c9be0b6d7b36c435a08e   0.098931  1652216652\n",
      "21        Amber  0xc22dff5da50be663ca31e9b4b7d4d6dc887556f3  0xb60f5739afa0a37b73cbdb69fc3a959e56f68934d32d1159fb58b3ae5b8b60a4  0x60aafbc2656739b4253739910f773ad84a7b4d50c536ac9e913f597c69a34602  0xada7344b0195cab9ad4c92564e93cb4538ff1bc367c3b022fd29226ed8e709e6   0.743354  1652221568\n",
      "22        Amber  0xc22dff5da50be663ca31e9b4b7d4d6dc887556f3  0x101f4a213df4dc244ec7aa52311f98b486c8f232f620d194384b77e2ffbeb7f4  0xdf4be86590345d456f221de34f486d3ec5f70d34fe2e4c5cd03bf466c5405f45  0xa6b0b27ce97002884979be89588f9edda9250e79f9792bf2e46749e4ddbd5799   0.500485  1652296411\n",
      "23   VolleyFire  0x57845987c8c859d52931ee248d8d84ab10532407  0x4f04a47bb08bb1b9b78e548b308a18ed1ace2f4c2903063f01396afac87e7c5f  0x54de9d9245c62364e1348140b3c79505a1558a9b17c7bb513491d2184521f696  0xed17925dfe4dcd0f64f4d3ad0db4a2b52a9a2eab082eb418e83a68eea5227fca   0.187823  1652443134\n",
      "24        Amber  0xc22dff5da50be663ca31e9b4b7d4d6dc887556f3  0x03d733b679f7417919ed5a2f4de27998fc4c1c7a5bfe85f2e22bfe3e4bd87eeb  0xe00de5ef0743921e7068e3518e1244bb5fb8ce919ac161ba91f6608e82268b82  0x6098f5a8042094d640804e8a7b52dc0263723205f57061720e4ee07da2d339b8   0.004373  1652670938\n",
      "25        Amber  0xc22dff5da50be663ca31e9b4b7d4d6dc887556f3  0x023aecb206d5b5ceae1c67107d459a130e7cadb14b2c8835a1c9618bcbc76026  0x3ab6c390c41c5caa0acd13d3de350ce75de680a38f40a7b31b27ae803144253d  0x62a557efa7f7f8240b668cdf9ba12c356e433640c99988538bf03662cc3bb660   0.059741  1652673734\n",
      "26        Amber  0xc22dff5da50be663ca31e9b4b7d4d6dc887556f3  0x748e8698cf8b79ddb375a4ebcdb7a49ff200e5c1513d42cbb4b2c4a4ddccf226  0xdc71b2d46d7aeefa10c49c99f390ad6caca48770498d07ef6e8ff72562e937d1  0x5701e2b4d8ea72c178028d39793485ab2104588af6d7604e78cc049410b3ff7c   0.072179  1652682046\n",
      "27        Amber  0xc22dff5da50be663ca31e9b4b7d4d6dc887556f3  0xf468c639add5efea7b8026d28c924b93758611a84eed1d60f00fbf803ab469f3  0x45ca8f2c683a9830cdc671de910986c98681a3c30b7085810ead5306e9637cb2  0xcc543eb4b6832536040ee1f0d12f432cd0e560b942e82b04d05a37772cf202e9   0.125508  1652682192\n",
      "28        Amber  0xc22dff5da50be663ca31e9b4b7d4d6dc887556f3  0x7d0ac68d3015bd465b3bc6c9c149aab1968a66dc4bc01c9029a10d0b44f8a833  0x1e143e86b16974a9fc97b07c0476be9ec7c282047a6512bbdd277b14bc2113bc  0x8c08a8c6dc5d8c945d1ce3cbef8f61894d0a50146c8ead7752be0579c9d0f8b1   0.446048  1652702557\n",
      "29        Amber  0xc22dff5da50be663ca31e9b4b7d4d6dc887556f3  0x6310121ec072ff70aed8b8084e839be66d5b37d98198419b86c5d55321487876  0xf454563efe9889ef246d33c192874fec1957aa3a6f8399d3ca9f7468e4a9a2af  0x08b1d71de2203e93a514d16a0b137247d54b4087b8dbb210f9bf96a7030ea568   0.902287  1652707029\n",
      "30        Amber  0xc22dff5da50be663ca31e9b4b7d4d6dc887556f3  0xc2ef070970c1605b592dd16f26317b465d3ca76f4513a5970f4ac1b5c3dae735  0x69f9238212986d36ff20f3fafc20b6697c3d8e1d5ae568931b43ff9da8d6045e  0xc4d474f44fa40a03fba26e99a3901929bda0a3ef0bef5e3e7d5943bc0564369d   0.271685  1652717571\n",
      "31        Amber  0xc22dff5da50be663ca31e9b4b7d4d6dc887556f3  0xf2d36a2d89b3283d3d82499c3af68677a03003ba7bcd0cf776f5919753103d3f  0x401ca47161353045b2d4c14152dc1e26882742e29319713b35ea9c8509dd9116  0x59a03208402f67c3933c11df09f628d126ed0a4f4c97b65f0bba3c6b04ed206a   0.144288  1652718029\n",
      "32        Amber  0xc22dff5da50be663ca31e9b4b7d4d6dc887556f3  0x1699d9436ef1276e8a202f30b70d5a140e855d6f00089d9e99ddc4ccbbb25184  0x863b30f89908bed903271cdc249064022e93479a5c850422056aa54e7113b357  0xf0045e4db2b12d2064a5f87763f3b6bfff5ee51dd32981d8db0c0984f4a22bc7   0.382889  1652721583\n",
      "33        Amber  0xc22dff5da50be663ca31e9b4b7d4d6dc887556f3  0xd4a535ef8b2bb4e7fa4fd3aa7d4b4ed4a58222db6b9a04b10a274b4b64896ee4  0x4372c496ee38f7e83d002ee200cc7161bb0edc64740ba9313fb3700f869d1b03  0x15838f22bd987c9aa095e2d01ebc72bc9e097e568b70460b58703ee77d70f8f9   0.247747  1652723208\n",
      "34        Amber  0xc22dff5da50be663ca31e9b4b7d4d6dc887556f3  0xbc316238dcb5cd1989ab7be793b7f67df4feb1f565ab8c9accd75616db032532  0x7477bc42d53a2cfc1d8eb3e72294e39d99795594632445a14354f6509e7810cc  0xeb37625e29470c10cb5ea090ae1b5ce6daec95043f32db671fb30695b9ce9cf3   0.097538  1652801055\n",
      "35        Amber  0xc22dff5da50be663ca31e9b4b7d4d6dc887556f3  0x076da6c3730dc27f25619048f7bb1e9b29b16fa721f5a27ccc07e00a75c8a233  0x447af2e48cfb6ea72a444641b7ff0abc3e8891ad13a89b70aa6fd46535b09358  0x40bd53bc238f57e4bbafac78181d5fdced8ce80ff23ae94ff0e96f45f8f63c21   0.384535  1652801670\n",
      "36        Amber  0xc22dff5da50be663ca31e9b4b7d4d6dc887556f3  0x10450a3d2ce57b826362d883ad7f9b00f6f6ba65bb53d42b34511708a275c70d  0x72ce397e566216a06409a2e1e957cb57f6ccb0994ca2098b0578a434d4b8e4ba  0xb7e30193fe6bf92f1939dc02dfc886dec3b323ed73233545a45e87a3af03b897   0.170587  1652801732\n",
      "37        Amber  0xc22dff5da50be663ca31e9b4b7d4d6dc887556f3  0x5d686f3fd14e2d395646396268d83a3d8ee87f8823f917529749b520dcf9fcc4  0xf5ac2c90bcc6df0851e32f49ef1f839078a9835932150499cf00390848f499da  0x603d20d17ebc5f0e79905a66e519a2b5c1864b7f1cbdcad9dd353aa179d649f0   1.085474  1652811468\n",
      "38        Amber  0xc22dff5da50be663ca31e9b4b7d4d6dc887556f3  0x830a6763b4b70528aa8bb36602251194cdbe155256c1e7c2db00c53dc427d170  0x069b36c58dc18e6beaaec2936aad1eac80a9de4d6dd82c9c752f6db59328624e  0x78c16f398a3982ce8252981970d307e80a34d7b854551b431d48524a12fb36f2   0.731833  1652812374\n",
      "39        Amber  0xc22dff5da50be663ca31e9b4b7d4d6dc887556f3  0x760f1d7cbe1de871e3cbc0c0d33611c613a2eacdb57e74875a7ab011228a0ec4  0x511b2cc03560b6f139e517fbd3d727f3c3e3d314f0fadb9fce2e3e142875b59e  0x94041409a8d441f387cbb61027382316d78ebcb2286d24ca1a6442fcddbaaec7   0.272134  1652816387\n",
      "40        Amber  0xc22dff5da50be663ca31e9b4b7d4d6dc887556f3  0x4cc0cfefa747037c1841db977d4785b4b6d613896c004a80b0e80cea2470ea7d  0xa21c86b1575aae3dbec7bd5044ee48ba655d1c64a5153403eebfd1ab5c498949  0x0a1c0b6cefa6cd8d73b4d4bd1dcc6d6f424913f579988e2d57d8babf54039757   0.628730  1652819485\n",
      "41        Amber  0xc22dff5da50be663ca31e9b4b7d4d6dc887556f3  0x024bec2edbb76167431db1106f871dcb815654e3155976f95873d14ec47c40a6  0x9388e0a516e90ad662c2be3e48f1fe162f8a3863f0431e31563dce081ef698d6  0xd9e0089a8891d09c5f5a80e0c255a3e3770bbc6ec0d8a38d8b1452a38ba6f6f4   0.653454  1652832189\n",
      "42        Amber  0xc22dff5da50be663ca31e9b4b7d4d6dc887556f3  0x2fe19d27ca7eddd34dafe628e05db30b9d5c7d15522e0d1ec7cab99a601ddbd6  0xb287e76053c8dad66534e4d0aff552d3c03b8a676a87f3f4b0eea0196cf20b09  0xd7b4eb000bd3dcf254710c512754650e33c3749d1e2733369c8cfc281bcfdafa   0.046472  1652874459\n",
      "43        Amber  0xc22dff5da50be663ca31e9b4b7d4d6dc887556f3  0xd301768767f78d4a651d90a47c160066cffce77adc13c573313565c38e116079  0x472d0aff108652408b418aaaeb3dcb7f53ec04c423ac86308b2f0b0703c14ce3  0x3e71a4b0611d60ded333a721c8c362088ea46819496bcd0009cbaa832d93c3e8   0.012094  1652878891\n",
      "44        Amber  0xc22dff5da50be663ca31e9b4b7d4d6dc887556f3  0x861fa9f90493beceb7db7b317262b26b74bcd709d0a03a847e1e6978b72b183d  0x4158a33ad9bc74762317d4ea872a08cfde3d0ecedfbcf8100bda1b26d6e19757  0x83234977fe7b59d1956b14b3081fa2720c06498f6375fa6a650251418e298be2   0.671275  1652880925\n",
      "45        Amber  0xc22dff5da50be663ca31e9b4b7d4d6dc887556f3  0xe7aa98cafcf109a3d01d34617cb82a4907922db71889095ff1734bc18acf4d01  0x8b01414675b93d3ce871b6b415e696248d9957ad61ca0c109603daaa4febfac1  0xae6cfa2f0d4ef2791df8d1028d783df0a3a33b0f83a8fc401e60e2c9159a9acb   0.459644  1652881441\n",
      "46        Amber  0xc22dff5da50be663ca31e9b4b7d4d6dc887556f3  0x7531121409b1938b2d4d432a9a03ff59c848579748eae174babc6fa0b26c8692  0x6acb6ac52a6cca5739428cf447361d9bf7b4436268206bb66f7d1d5bbac74b7c  0xdc5680ced203ab8cb810f82cbe9dae79b2b562ba49b69aca2bc768de17acead6   0.172652  1652883270\n",
      "47        Amber  0xc22dff5da50be663ca31e9b4b7d4d6dc887556f3  0xfb89db484546b519ca37919fa7ef270b0a593f03a675423de08079045ebe152a  0xd9d548e99fd1395ec5030ffb2ac6a617073629cbe9934b86a31633e03a2ef3d4  0xd43979662914107f0222c93dc94b1cfe159d3b890efd44845c9aa74efc553238   0.892977  1652892173\n",
      "48        Amber  0xc22dff5da50be663ca31e9b4b7d4d6dc887556f3  0x1f5d93c159fd3f0c23a190831a99042fca343dfecaf28d21fb4d137c8520108e  0x8ddf4b10f89ed68f2d4114ec3213aa95c72676cfce31dcdf3cc95214a920ef69  0x31a6c042b3e69b183de8cdd1ad3398dfbe4d8726fb930e934bc3e824c7159e3a   0.230582  1652894620\n",
      "49        Amber  0xc22dff5da50be663ca31e9b4b7d4d6dc887556f3  0xc98f67c26bc7a149845ec8efa2691da0ef54a831c5d80211674458457d3a12cc  0x8b2c8193cb3f3bbbb01745def986313da02c55e98c3671bba14db3cc53e63d7c  0xe33fd1065b0f4c7a4d6826c16ada5a27e9d43ea1002f800cabf6adb2237c0af9   0.886134  1652899743\n",
      "50        Amber  0xc22dff5da50be663ca31e9b4b7d4d6dc887556f3  0x0fddedd2c08483102fa15d9c140f294cd6b53faf192f948e6c160de9e3dc099b  0xbe32158aac5f306468fee17237cedefdda99da50a095a6c6363e9ef69161ca74  0x44ee616de6c4d5c4145018ccff205cd9d337d8af50b664a9800f2f6e9527f90c   0.442494  1652900432\n",
      "51        Amber  0xc22dff5da50be663ca31e9b4b7d4d6dc887556f3  0xfdb544548be248b9667b4ef3752e36903f0afa141597e71a155d8240db9f30e8  0xa3f9222e1e882ad30f869ade82bf130d79cb109b5eb02708cad0eeb07ad24999  0xc50715c5f612a2620b1e11851cd9b13efc662376c9c690a8c751408a2d32c3fe   0.996013  1652902999\n",
      "52        Amber  0xc22dff5da50be663ca31e9b4b7d4d6dc887556f3  0xf5fc9ef9cde3464254b090fda07c120a906506acc889f7b5ba222303a005aa9b  0xb44f7d6c2d0fede0b1f014f5862b0275e3171fddec25ef58c8f6789acbeac99b  0x349221134b8e865f65def752da68ae0abb0e9c9469c537ed819ee6234c131806   0.480673  1652912318\n",
      "53        Amber  0xc22dff5da50be663ca31e9b4b7d4d6dc887556f3  0x72ce60fe96b03c3afad005cb56cb1f6c0700e004f196b6b4be0108e6ef2f49be  0x21411663548183f7dd438475b39d3a07eb3f43c36e2d9480a2163a3159ce4486  0xcbbcc1e946e9b54416a128c8371b0218f27b6a9ce0b46f5e76ee6f476da902ad   0.097702  1652918586\n",
      "54        Amber  0xc22dff5da50be663ca31e9b4b7d4d6dc887556f3  0x089866f44ffde28c236b9d4b36b70652bbaef3c78308cf57634d8e54a85d2057  0xd3eb852bda90a04b4ee22ce41a832a048e24e3d5c0ec6eb0c1811ea58af8b32e  0x58b2568065a827cf2aa0408ee7f34c1fcd5d5adf42c6ebaad92a6fba61aa1992   0.247762  1652919166\n",
      "55        Amber  0xc22dff5da50be663ca31e9b4b7d4d6dc887556f3  0x1941eae72f1d19b70857a1275724b815505ebc1478f83f79ddf40d35ca66f8be  0x065f232ed564e9c653257a63c9f5b08351f83c4bf5e5dbc048789bcbe8330cb0  0x8bac35fc21e9d749a513d4b58aca123c941a95c31be11d948a8ff47ff4b08f8c   0.568350  1652919508\n",
      "56        Amber  0xc22dff5da50be663ca31e9b4b7d4d6dc887556f3  0xd8c30d78a8906842736bd1e8ebd60d43d9e5df471949cce01863be06026bb9d1  0xe793fc4d29acb9e88f3fd267fdf728ac787118b2d43dea9e13036d2885009591  0x5bc19f3313b4dac471245aaa5e6f6a05e8c3356fc66b6a8a31a6f5458b8b7ff1   0.278197  1652919827\n",
      "57        Amber  0xc22dff5da50be663ca31e9b4b7d4d6dc887556f3  0x08bb30ddc6fe2f0779d30de58ec6c331c49f99eeb5435d9230e7a0e07dc1f074  0x53c7f27c41433df8dc79a52eb43420a28b2ee3a4af417ebea37a35e6731eaac9  0x21369cd56eca967719dfe263fbe9bc85844c2f56e8044a7e6d69ec7de2f7591c   0.446387  1652924177\n",
      "58        Amber  0xc22dff5da50be663ca31e9b4b7d4d6dc887556f3  0x1c032aacec03bd97f988a5569969c23ed1db8ee3556c5f89c4eabc6fb8d97ac5  0x52c69e058279f3f3090715906af2dc04b9e1155772303cef5c217381113586b7  0xb82091377230a30bc0bc43701a67201e98e9742e5cc8e0aa28d258387c263cd8   0.074119  1652926081\n",
      "59        Amber  0xc22dff5da50be663ca31e9b4b7d4d6dc887556f3  0x06f13ad1f27ad7e88a0e0f6062b00a1b08350b4be1e1fd09e34d17733735a0e8  0xaeadc8f5b316c3e497f3962287667b7079a853aae109a8d05fec5f80f3bfa053  0xf9e3465959022a5facbfa10bb078633ad389c8023972ae60ae0ef1890e643230   0.101887  1652930098\n",
      "60        Amber  0xc22dff5da50be663ca31e9b4b7d4d6dc887556f3  0x9916091a173973c08d36359b987d2ae65b4ede2e3c67b46432bcdfc9de9ee454  0x28d5e3b7439539a5a47581ab75d9debe2462b35c819eacc568084e9dc81f0f92  0x55e261bccfefd00fe59034b88ad0c5f6646d71f7f97f3d99286ea658b79ac1b9   0.128175  1652931855\n",
      "61        Amber  0xc22dff5da50be663ca31e9b4b7d4d6dc887556f3  0x2eecac08b92f735c7a9236c366df928537179b6651886bfb468de2280290a4b1  0x31fd229d179687dbd5f112662f77f0e29f738968006f0b424242503adf9893ab  0x534097abad5ac0c670135dcf25e4722518cb00c716d2db42aa9bbb1eb31419db   0.080587  1652954545\n",
      "62        Amber  0xc22dff5da50be663ca31e9b4b7d4d6dc887556f3  0x82309e410cc08b797a49a2dd30d51fa29e0da30a3949b6856abddfeeb3d0893d  0xf818cea6cbe4cd35ad2b8d380b25485763917fb84d58d002c8dbfce2ecb4eb2d  0xadae6f381bb6e8081454609a5ba70c209e1a3d97f60d17d88dcc44c7cc8f5114   0.540242  1652958759\n",
      "63        Amber  0xc22dff5da50be663ca31e9b4b7d4d6dc887556f3  0x15cfb780c55b6b983f2061e4aa0f9bb2d9a7ea7fe0b15301ad76b8fd7f59a7ad  0x6b4723a4de3ce24152e01faf42783bb39c53f31153ed2acdd27fea52f29c573d  0x312ba50cbd948e9255b7463d715d6c64805a404f477582230e1cee86b43d2451   0.397769  1652963233\n",
      "64        Amber  0xc22dff5da50be663ca31e9b4b7d4d6dc887556f3  0xaab9d3e06863a13cd9a0719f919324ac144947538eb5b95049e860af960eee3f  0x891fa171ac5ef0c5f8b024192ad690d64b53cf8e0a1a6e2c84316ca5fc3441f3  0x2b969cefa1a76b36bee8124c22581f2b08bc2c2aadb3d33e815c8991df63ce47   0.313775  1652963483\n",
      "65        Amber  0xc22dff5da50be663ca31e9b4b7d4d6dc887556f3  0x84bb853c7e2fc13dc12cfcc65e35da4c6b665ccecfebbcc78f05da16ff2f8aa4  0x7514ef4df2cbcf4f55fac134ff4bcb837b9c668917ac6f0ebe6cfe2f0d58ab5e  0x074ae3c6d3a84dfc57cdc42c4dfee9fffc56ee3145af030777da81825b85dcde   0.200768  1652982930\n",
      "66        Amber  0xc22dff5da50be663ca31e9b4b7d4d6dc887556f3  0x34b905a4736219723c95f31eaf29f6d9e6888b8cae16d79a8204dc77f161b129  0xabee7c62a980238f08f8f75ec3e9c266c28d6c1f191dabc430949b98599d8348  0x7ff71a79ee78974e0dbea1aa563f781a83aaa8dbfba7f21a82ef947a884cb5a1   0.146458  1652987049\n",
      "67        Amber  0xc22dff5da50be663ca31e9b4b7d4d6dc887556f3  0xb44220a8e1dc43b4cbd44d17041d609dde63edc35be0ae25c5a208308e2df21c  0x1891f8561622c3b49733e407a03e98de46cad99a70b11f83e99231ff95c4412b  0xfb334c6d1950ff53493a440387c4eba8899b35cf7564d491f2283fd7e56b7949   0.105298  1653001821\n",
      "68        Amber  0xc22dff5da50be663ca31e9b4b7d4d6dc887556f3  0xac05a6264a03d1d26682d89692eb532fa10607cc4c13574c300a6d6a3f6acc7e  0x3743c0d92b526c6157ae63c25e4d5a7bfef512a8aa0d605ee2ec10a6d01641ea  0x87c35d056dc05abc64ed71ee296b1774a4607fec6da0284f8bc6f93c30b4dec5   0.157116  1653035374\n",
      "69        Amber  0xc22dff5da50be663ca31e9b4b7d4d6dc887556f3  0x22494d3957c4ced631c02894e4333fe195441f781ec473139c250a309c67fd91  0x08fb257e9904c4d2ccc6c37dd2beea61e72da6067fec46ad56fb5428ea0627be  0xbdbf4a73b2302857b3121d13a244ec702ce6c135573dcdcfd723fcbfcb7537d7   0.183660  1653047861\n",
      "70        Amber  0xc22dff5da50be663ca31e9b4b7d4d6dc887556f3  0xdd1a82bbd45180af92d8dfe40e23422f86f75d16f356b41b5571701116070f83  0xeaaa6a0e1e261f00810b13b9f358d77d443736d2f996bc91fd2599131e027034  0x8adba53d3ab6e85faa97e9b3b493e09211717f20c0e90e6bbb52e332f164559d   0.371605  1653053433\n",
      "71        Amber  0xc22dff5da50be663ca31e9b4b7d4d6dc887556f3  0xe5ac32709c3db61c93d00f72afa29e63730752e8878975f1d5bfdda11f142dd6  0x07f0d617ed4197810a9b928dad203233db0fbbf153464a8567ca3d23b6df60a4  0xbd7515033aea6b59eca6d85c58c45b874f0381a56524ab437d9d278c75690351   0.256809  1653057035\n",
      "72        Amber  0xc22dff5da50be663ca31e9b4b7d4d6dc887556f3  0x2a207a19ce170a5c297685388152e24f37b647b500e9bf10cd2fb0f992f69e13  0x0a39bc6af02d7e3191540d03364a54903ca4f7054e950ad24e315e7af58788f7  0x2e6adc82705163b742a46c32c90c8b2105e54162adb5a8c13e3c1a3d72924e65   0.222402  1653059776\n",
      "73        Amber  0xc22dff5da50be663ca31e9b4b7d4d6dc887556f3  0x37257cff1c9b08743d030a0396bca9d726a28b98af4b1eca812219d9ebfe0b28  0x343986794da8a2f348e4ad313f857109388a0ca6fd66affde8adae22d752a521  0xbc28dbc475273b0e2423602796c33896a96751d74dffb8c629fb5f48590a2753   0.308500  1653062822\n",
      "74        Amber  0xc22dff5da50be663ca31e9b4b7d4d6dc887556f3  0xa5a4f1e203373d9f8bb47bbdfe3aab14b6ae73a0096a5ed958ed530590659a33  0x2c20faf2952ab9c1a98c65f8c5f228c6754db3bbf339dd8692b918a3ae16c03a  0x2db12ce9fa141a3cdb17ee86011c6d699f61d685598ccf467cf2503072b8ce09   2.761016  1653062953\n",
      "75        Amber  0xc22dff5da50be663ca31e9b4b7d4d6dc887556f3  0x5f1a8f507b83798f53370e7ef70a6cb8e0b3911b1574f9af23f4d23ce4ec4c71  0x6b54eafb1c7d86373f0b38400093ef7c1264ab4603a5aa47096f7adaf66b37ec  0x8a9caad9801037be7bfc0df35615ce1008212513f12b50fe6bf3bff492d8fdc3   2.970803  1653065282\n",
      "76        Amber  0xc22dff5da50be663ca31e9b4b7d4d6dc887556f3  0xcbef96f906ae5f6a619af94c72653923c0fd834066ea83fef9d1aa0a2f264f55  0x90227eff5723cedd6378797cb8fc08995e1f9f20f57df23749d327bacd7c4231  0x2efaeb7c3e2e763927a79c711746a9ef1462ee11f3cf4a625d86bb9b3a48b2a7   0.224961  1653066210\n",
      "77        Amber  0xc22dff5da50be663ca31e9b4b7d4d6dc887556f3  0x6104366e0742b31338f359b78be90a4c297f7966b722227fb6832c8ed3bf44b1  0x92630531d5a0f3b1a6bea2167db875e9f86f2500d3a70335df2694d60b8b3b8a  0xaee482618ac2fd4fb620717ae5ec2170d9ccdce200cf1141700230e698cc3b5a   0.189147  1653069289\n",
      "78        Amber  0xc22dff5da50be663ca31e9b4b7d4d6dc887556f3  0x13020d131d818d3412aa62103438ec2123514a7b16997dcbbd3741178523d5b1  0x3af5e671db24ed4d0901f09f66c18261d35bb603351c3b463e65e2b2e9722bdd  0x0effb380c63bc00fea01416168622d92e228f38c8430f8f81ad9128a3507897b   0.280330  1653099744\n",
      "79        Amber  0xc22dff5da50be663ca31e9b4b7d4d6dc887556f3  0x1450a7a5291803550a574db6d75123c6fec374aef751c9e0e730bbacbfdb05e7  0x2b128655dae91f867213f79993213bb3597e829ff8531e8062b4dd7fda5b5717  0xacf9981fd8c2a16a349e10a3f4dac9abefa1236bb1f155f6b7ae4953be79a4ec   0.845213  1653212546\n",
      "80        Amber  0xc22dff5da50be663ca31e9b4b7d4d6dc887556f3  0xfd0426c986a7e2d842514e8701bb3786ab479a3716c5bd151d8d637907109b15  0x7410ffc86d859c13443e04063a7d78fdefea6216082a86ff718ef835f384fafd  0x4b0a64723628c04288d8ff08b3306b003c9364cab565b06dd5904eb0b1c862cb   0.419457  1653213747\n",
      "81        Amber  0xc22dff5da50be663ca31e9b4b7d4d6dc887556f3  0xd3916a0687506e566f091e4db7419c42361d44a80cf440fa463b42266c10ac9d  0xba13bd16ff6caddc0c4ff2da94599d456bbbad96e1bcd44133d236de88d06b02  0x338514337fe0ef9c8cabe289eeba21dc88726446dbe719f52c58c31f95828359   0.281767  1653223455\n",
      "82        Amber  0xc22dff5da50be663ca31e9b4b7d4d6dc887556f3  0x43caf005670d095df4240ec227eca7d6c09aa54e3f6df1c5e61bed905afa2ec6  0xea87e8a9e54c49912b3da469cabc47986fd990f79f67c1be9b4e0bffdbb33409  0x09ca898230ec1d41da66270bdd0d2718de335bcfde02a8546f5c223a396f2848   0.595254  1653313744\n",
      "83        Amber  0xc22dff5da50be663ca31e9b4b7d4d6dc887556f3  0x485e646fd370d4075036c00336b0f6895e42f7e8ec666e2856210501e3a913a7  0xa2f856bd5778c51deb892140ad664cb58627bd47041f6ae443bd143f01620e4d  0x095992a774ddc110cb82ab0cc635e2c382903d58b0ba4753afbe3fa04b457251   0.174195  1653316492\n",
      "84        Amber  0xc22dff5da50be663ca31e9b4b7d4d6dc887556f3  0x3aeaaf49c78c34bdc8d83907200f783cf4f202ab24e9ed97d8b4bab19464e50a  0xc39adad5e9d536efe7e7db83aea4ae57525c670d36a478f6dac6bab673dfbe46  0xe4837d3618a5f07d839a3670091eb9744b475d19f7c9fe41f468bc4519d473ab   0.240917  1653317412\n",
      "85        Amber  0xc22dff5da50be663ca31e9b4b7d4d6dc887556f3  0x2b0213105d1b9adb060ef0c5bde2d9399b64ee587f1f5916c23566759c6f1527  0x8a6c77eb68d1cca0d71404cfc455b93fbaec4475a89004a52a0be25b51fb0894  0x4ee3bdcb342bb5225a3d41768d386595674dc26c51aa89155e02a32f1dfc7c79   1.296564  1653333352\n",
      "86        Amber  0xc22dff5da50be663ca31e9b4b7d4d6dc887556f3  0x77fd0601df1c4fbdceb9e43965d95d3a9f1c4fa40361f148c7b9f57396f632ab  0x33f99c91ab93642d8fa39d63158cd99adbc47c8d8c268dbc5897f988df86fdf6  0x1d04e964884a8bf664ca49e4932e45abebeb07841e6b9c70b7ab0b6af6ab3d1f   0.301271  1653334573\n",
      "87        Amber  0xc22dff5da50be663ca31e9b4b7d4d6dc887556f3  0x078d9f13d691a91f95e0803be7fe684c6d6f2944a704251830e7fe51f93b0c9a  0x00235c5e8680b01d88ceb21440bbdc9d4f8feea95c79f6ba7fe4f820536563b6  0x8895b837a4cdeb628fc3bc8717d57bdadbfc79b8a5a80b63242e5c89e6f2aed0   0.277299  1653334573\n",
      "88        Amber  0xc22dff5da50be663ca31e9b4b7d4d6dc887556f3  0x15d6e2b02f11747d64cdd0c1bea5abf6c05741c7e1692e0ebcfbe53b5989c3e8  0x0ba93ada5c78698a17c4d2865f41849ffc5fa347c86db89efe069b6f4536cafc  0x5a8a6981e5435309dff9cabc23e6f3fc68363133e6e95a8ece37381c30d3dc1d   0.471878  1653348640\n",
      "89        Amber  0xc22dff5da50be663ca31e9b4b7d4d6dc887556f3  0xbb9eed4a32158668b28d55711533ea40920a29676e4875b66d1adf6d8eee7096  0x158a4f3c83148deeff689006105dc4177a91c8567a4513ce4c7f329f3eaf44bd  0x7e825939feebb9d58f58c5a0f9923d1d7e0de2937d812731ca709b7789e764a7   0.275105  1653389236\n",
      "90        Amber  0xc22dff5da50be663ca31e9b4b7d4d6dc887556f3  0x5d775e5c560deb27f8f4480b280215145f99f5849529f0e13af78184210d3163  0xef7d14591f04c6e38eaefb845f40f56a2e11b2b7137d06ff5c0bf2501a43f70d  0xfd668ffbd1154d8a5ac7a7698709735791455628272d20a074d804beeac87c28   0.638757  1653399701\n",
      "91        Amber  0xc22dff5da50be663ca31e9b4b7d4d6dc887556f3  0x957c700b0aabcfd2e6f83d9e00722338df6e53d2073eb848cb03d6c21e869fb7  0xd35e1119e063cd9aa704c331c5e3997663528617f26926d430d4cdfc54ff8b15  0x17a8715525776f371f64fdc8a516e8d615b9bcc277e4aedd2d3c97af78127d0d   2.154648  1653400120\n",
      "92        Amber  0xc22dff5da50be663ca31e9b4b7d4d6dc887556f3  0xa1082d3bd270995793805360cf7a0cefdf5103cdb2dd5f252c12f5892fb77495  0x8426f811c1eabfc2b02cd6e33608d33debfdc5db58791353730ac38bf3911466  0x2a83ee15b322a6933642203db26ef7ccfd2e5c53f9670dfa0a3f34ae271ac479   1.156255  1653401291\n",
      "93        Amber  0xc22dff5da50be663ca31e9b4b7d4d6dc887556f3  0x797fdb94820e082839dd7b28ddb663311a314b163e05c8a6113d0bbb962c2904  0xf4634de4aa7b3c69dee9cbe2bddbc1990f9fa5a847462215fc1383c845bab463  0xc14690c775f31521a5bb0b90bf7bf574454a633cbac6b573d5d1dd4eb20ed93e   1.020007  1653401313\n",
      "94        Amber  0xc22dff5da50be663ca31e9b4b7d4d6dc887556f3  0xbc3d2ba46deec1bbc1ae78f1a0847030c00d9898793df3b9bc7740a6b05793d2  0x1d52cfec5c58b86bc3ddbeb00c175b1c5c6ef57969d7fa1446160ad74225265c  0x8560f763bb52ad74cff31e4917e609f731b3bb360ea1ee9b175cea73fdb704b5   0.983407  1653401374\n",
      "95        Amber  0xc22dff5da50be663ca31e9b4b7d4d6dc887556f3  0x03e05ba1b0332db6adee470330456985c5f99f42e4238ca6129a2e714e090120  0xac84d24270d99e58b7c14d1453324b2ddc03f3fc03354c371862949579568484  0xd9e07157f07f2c479d009b5b960972e51ee9ecef8e20dd7827b1aeb3a4698e43   0.190409  1653402024\n",
      "96        Amber  0xc22dff5da50be663ca31e9b4b7d4d6dc887556f3  0xfb21454f8460fea28f51da6223136e096c17cb954aa832f07d55d6754dab03fb  0x8b36fc70479703b6b19a5cfd6251d116da802d276208f98e347e5013f027941c  0x5f23017a09e9d953e3aa373c81b7bd0f97ed400e2ce38edec845aae7fbc4c4cd   0.321787  1653403145\n",
      "97        Amber  0xc22dff5da50be663ca31e9b4b7d4d6dc887556f3  0xa7d19f7528e11ee2bae0ee1fb88d576a7980662a4a07f8e5ba402baa0d7e8238  0x06e490f988da597cefcd3134e8ff6e240f22117d7177327cc3e723dbcb6867d6  0x8b28121d6b1fa16ae5be8cc18ec5dd4c6b0e8d24d90041c9a441fc4931222a84   0.801805  1653405394\n",
      "98        Amber  0xc22dff5da50be663ca31e9b4b7d4d6dc887556f3  0xeec78e3e8e4e8105645645d5f773a28e529ca70854593170cee4e827458736c9  0xda027ffedf687d25499d6dccbf92302a5042d76de4c021ca4085d162fe5a29e8  0xd73d8fcd52494d06d5a51565e7ea48f9491732d08391695fe9939053418053a7   1.607647  1653480384\n",
      "99        Amber  0xc22dff5da50be663ca31e9b4b7d4d6dc887556f3  0x364f4e44f26056144420e0c72483664e1df43a1f7a8ed0184ab4d7ffccea6af2  0xac39bc19fd58a9f43a139673cb5b31fe95acaab66d47e322553c738406515c55  0xeacaa08d19a4c07d9209456fc503d66259c11ebcfba6cc9502190739b6f5464d   0.410805  1653498600\n",
      "100       Amber  0xc22dff5da50be663ca31e9b4b7d4d6dc887556f3  0xb4a26ed73820e58a48adc81199a08661a8fd82e1c018410f680a306b423f0b06  0x1bae121a09ca687994290fdf19e163d267ce5bc4bd280d6fb42171f3b37c874f  0xf0eb5362e8210fab7adba4835e27f75824e62aa59bc94e7e10b9d06411bbfac2   1.166082  1653503238\n",
      "101       Amber  0xc22dff5da50be663ca31e9b4b7d4d6dc887556f3  0x4cabb554b62147d753fd1d8943e8b4717271f85133e286c338cd8d19af586fb7  0xc718cbda6f26dd38faaa0ab044db7fd6974d5edcd1c060048e2674298bd0b994  0xf251a6ed4a6fb58fb8397a28ae8424492d859d43f0cfba3e605adc4a531b753a   1.515494  1653520861\n",
      "102  VolleyFire  0x6c2d992b7739dfb363a473cc4f28998b7f1f6de2  0x59bf20d127c81b53b8105b9d9a92eb5f8e900ff459ba5f15735c07772673ad6d  0xd6a12b9a478943bec556fe8804809f894166a2e666a5f3cb846e9018c8129fbe  0xbf08aa25eed4d6492a3f4ae16375c6842805a2d5720215c84cae68587dbde5d3   5.523498  1653553313\n",
      "103       Amber  0xc22dff5da50be663ca31e9b4b7d4d6dc887556f3  0x8d85b9c8acc937ed38ec9fa31b6f0a6421031fdb874b42f2d0b4f4ceab0cbb4d  0xdb78e3b5b91513833842f658f08516e3ea3bdf67f8da7be5ad2285318be4d4a1  0x046fe5016a5af9d91e7e1f7554780e2a3331857695d362c63a6aaad4bc21f761   1.635378  1653554403\n",
      "104       Amber  0xc22dff5da50be663ca31e9b4b7d4d6dc887556f3  0xfd9c09b7d201025d02620da520f100bf34e80472aef3555d7918a09095fb87be  0x357aeaaedfe678df3c24108cd8f5a40caa56e5a7884009695d78ce8951b896e9  0x86a65b881cc5646d37c374aadae0ae85d5878253c62620fc985d7b04c67044f4  10.441691  1653563451\n",
      "105       Amber  0xc22dff5da50be663ca31e9b4b7d4d6dc887556f3  0x4338712e7624c8dc2f2dfaa98f4812f40108ee36bb1493e767980442428513d9  0x6ea47b69c4988eeb48deb1dfe97eda22cfd5c1a54ff703de2f0505f89195ed09  0xcb8c20c88062779da45be9f960dc45fed3a61a74c1ff4e3729ebf5e97f2a831a   0.842299  1653565027\n",
      "106       Amber  0xc22dff5da50be663ca31e9b4b7d4d6dc887556f3  0x963689d6fe276942a8edd35919c0189312841eda8167be870f90ec04185af7a5  0x349f1e9ca46a035123c6639aca97712a4626ab4ec25ef71be49b790297a2d904  0xa85bd3131b34a9fdf01514a4070eaa8ae9d373816e8372445fcb54815345e727  17.624688  1653572921\n",
      "107       Amber  0xc22dff5da50be663ca31e9b4b7d4d6dc887556f3  0x0312acc4ccdcb3b3407c4b7d9dd16ea1a751441a58d4dd32c32e538308d5d347  0xda9d24c119e1a1372d5933845668e67d302294a706efcff9ef1cf968947d5b88  0x5d624964c2bf43803cf0c065dfb77d14d32249c3902df0742ac2ca05ffb55a99   0.303656  1653576538\n",
      "108       Amber  0xc22dff5da50be663ca31e9b4b7d4d6dc887556f3  0x1f6acce7eb6ba9bc77ae39d687fba85a1567549b3375232b084c8a66292456a8  0x50103a4da2fc02372b8679a191cc50cda50e2b3f9b947b20be42bde61115b5f5  0xfa32283922b2a45765bdf6c2439d07b9dae39c569b5090bf3d761cbf0f9f97a7   0.727106  1653597120\n",
      "109       Amber  0xc22dff5da50be663ca31e9b4b7d4d6dc887556f3  0x2bbccf44fdc816f0f84634d377f04d65dc31eb909422abcf59614380313c5f0d  0xe7690831bcea1e760faf03c93bfe375c64460ef71e27ed20dafc67821cca4650  0x5f5f83bd662f955a8cc4f80a60a5462defcc3d1d5da82d26dd8566cfc7b43890   0.132798  1653606688\n",
      "110       Amber  0xc22dff5da50be663ca31e9b4b7d4d6dc887556f3  0xeeec9142898c199e6ecdb5fc8df988e7503271815aee1dd20a94a5e09848a827  0xbc63a7c67d661e68fa0933910e82e1c831a545a8ae956dbf2541fb8351542293  0x96b1ab7b9e9467fe394894c503ccd523dbcb8379e29bde7d5a94e133a5ab4a6e   1.224710  1653613373\n",
      "111       Amber  0xc22dff5da50be663ca31e9b4b7d4d6dc887556f3  0xf86508cac498038791f8a510f476cf9cf12b42fd71be8d2143b75de7aff1628e  0x465a1553ec667398bbd3a515a5b3b1d1290b02cb94cd98a30b199e58c54df634  0x49275cc2d4a057e73dd50cba90ef6534dc4f8989b0600eb1c26aeb6581b20505   0.676408  1653617493\n",
      "112       Amber  0xc22dff5da50be663ca31e9b4b7d4d6dc887556f3  0xbd4a86b2d833faa9aac96232b0c20074c6e13e5d3bea7a13cdc577b2f8465a86  0x05c52ebf5f0a96d85f31acbe1e8b04c96d77de7c9728ad608443cf263c976a5f  0x6e65ba3820395b348fb6e397414e9126b832bea4d12b2a67e9da0982c5159299   0.392374  1653618613\n",
      "113       Amber  0xc22dff5da50be663ca31e9b4b7d4d6dc887556f3  0x3024ccac43533378f543d8fa61c852c2a50f4691607e7e364c2692c28b4f549b  0x5b2d6e9998a50dae7ca0f25d2eab40ce281ead07baf84113ae6c5d9d1b023752  0xfd3cd39dc1c716b8b30a0a4b3c8b8187b778645f91bd545bb4b2f50b7fd87c7f   1.901033  1653619635\n",
      "114       Amber  0xc22dff5da50be663ca31e9b4b7d4d6dc887556f3  0x719e02a9ee1bcdc196dffacd40600886dec7c88eb87f71e71476534a389120fc  0x0d4c02037e316304b39e9e37df404198b859738e6c6898dcec7cbed9ada4647f  0xf4e3c63451eeebf9c60435be1a9c64754766caa24206a86d53e715410239342e   0.432215  1653620251\n",
      "115       Amber  0xc22dff5da50be663ca31e9b4b7d4d6dc887556f3  0x5ec538e88bb335502ea80469109f67d96d51f979895730a2b43c957377579fd0  0x3a8a1e43817ec073c88157fdc5a95d9c98a0df5f2c535c1e7ed8ceba9c5fd5a6  0xc7727f138dfa0bfc8c148c5b9e949ae65776cfa032c7d4be36f9f8988c4a3e66   0.392139  1653627060\n",
      "116  VolleyFire  0x579d0b20609414db74d81b293900470f6d6f035b  0xd573d76e6e7c9a071c0e850aca02c943267bf0e3183188b3c8c3f0abd7e46d75  0xf981983171064b48cf18bc090c17a2afe486eb0a3b19edb71df7fe02e8dac2d5  0x92ac5fa5fc69550622982c9c355d4fe1f7256f61c0c9fa31d092cc07689d1cb2   1.147396  1654369406\n",
      "117  VolleyFire  0x579d0b20609414db74d81b293900470f6d6f035b  0xd1a5f5200a63fdb78d63887639740bc3a67626a6f7bb23e3ca63b208ef63e977  0xb8338e0d678b2783ecd52a3e8537e04d244ae8905f8332e6979fb575ed1b7d7e  0x7915a3c19aae830efe80c8875db5b4cd9d133e0fbe9ccb33a7cec5c2df5b9de8   0.968993  1654390168\n",
      "118       Amber  0xc22dff5da50be663ca31e9b4b7d4d6dc887556f3  0x92044dc09279a1f4958a9ecc2cd97e0707682f4573bdb5259e212be1f16189af  0x392613f567c676d917b34a849a4058773ddb47e991dfb90e2b3d383dc22a1cae  0x9962af99e8d75547c7f27702eed2632ad67bd5454d070bf5f6b7f52241f2438e   0.875170  1655103020\n",
      "119  VolleyFire  0x57845987c8c859d52931ee248d8d84ab10532407  0x4f79ad1a2228a2f24cbbb1a7f5695182b0f4dddaa233153761ffd39123dbb410  0xcc8581b70162efd19ac94dc8b6ce84a4e26649e798325dd673d7a77d54fa4595  0x73deb8ec2788c9a0b1fc41d8b3de463953132c58365f8638e750f48acfe0d961   1.054947  1655488193\n",
      "120  VolleyFire  0x57845987c8c859d52931ee248d8d84ab10532407  0xf173c262f235a55971f9004021c111dc01707326705f920997e44577bbcdca79  0x90f1f81b59dc2b00ddcbba45fb5fb8cebe9ce3ab02c5c9eef028a2167dc305be  0x35ca9f6567c9dd376a4dec1852cb68eda4203a199d318fedaa8ac95de55bfb6b   0.553546  1655539874\n",
      "121  VolleyFire  0x57845987c8c859d52931ee248d8d84ab10532407  0xa0616d66d3020054fce53b0440057f858e9702bb3a0f386d8f0eceda5e6c88e5  0xd81da3d2213753cc81cd2deb5c59b4bd70334e836ee9b2f8d053a033416196bf  0xc6d7390d9255de084cd9e9395938c3377bddc5dfc31a828c5598ec8759deefa1   0.000000  1655817428\n",
      "122  VolleyFire  0x57845987c8c859d52931ee248d8d84ab10532407  0x2aa2436029029b9f2a15ac5e3c7f04f2fcfaaf641bebd6f293fe63bd35dfac38  0x0c0b27c8a92e7904ff830768db9a5d8668badbbc80683d390ebbc6d01c696f99  0xb41b7b7149e022a39f513da39632eec765839484a62d28fed422e691ea2f7763   0.693044  1655881893\n"
     ]
    }
   ],
   "source": [
    "print(washTrade_df.to_string())"
   ]
  },
  {
   "cell_type": "markdown",
   "id": "e0d34ff4",
   "metadata": {},
   "source": [
    "## Wash trades since pilot program start"
   ]
  },
  {
   "cell_type": "code",
   "execution_count": 17,
   "id": "310e4fc4",
   "metadata": {},
   "outputs": [],
   "source": [
    "# num_days = 1\n",
    "# start_time = time.time() - (86400 * num_days)\n",
    "start_time = 1650153600 # first pilot program epoch date"
   ]
  },
  {
   "cell_type": "code",
   "execution_count": 18,
   "id": "c17a35e6",
   "metadata": {},
   "outputs": [],
   "source": [
    "pp_wash_trades = washTrade_df.loc[washTrade_df['timestamp'] >= start_time]"
   ]
  },
  {
   "cell_type": "code",
   "execution_count": 19,
   "id": "9cadb836",
   "metadata": {},
   "outputs": [
    {
     "name": "stdout",
     "output_type": "stream",
     "text": [
      "    MarketMaker                                MakerAddress                                                          OrderHash1                                                          OrderHash2                                                              txHash  bidAmount   timestamp\n",
      "1    VolleyFire  0x7b1886e49ab5433bb46f7258548092dc8cdca28b  0xcd6c470b138d8c772f4e5ba8e397572ac57c05a0115cc4c7a62fa0311a5dbfe9  0x5c47aad9771b01e61c7a3be6691bd3f4825c2fdb831a9a9fc604192d75dbf40c  0x066edb5f6aa88399cd951e4d3d3691b376e816ecb4402debc13e48037e564a7c   3.788693  1650255652\n",
      "2    VolleyFire  0x4a45afd5a9691407b2b8e6ed8052a511ee7f01e9  0x0ee9f19830ce27387fb526b0c3d5785588a9eb57683f0ad617f6aae6d1500f23  0x2768d5e2ffd0353abd52c20db73d2d964f168d46ad2839fea8de6fcd3440584a  0x7d1f3a9da8c9696937fecc2a5b6bc2e86038f0c8c060d514e91bf9eadce64f6c   0.011904  1650362587\n",
      "3    VolleyFire  0xcf9ebecaa4b1581b5566baacfb6d9933f9849032  0xf6f2344d3587b1fc950c95901f03e46d365d1de67cced0c8c6c328f25b5d372a  0x10b1e3f4eb2f3dac48a2ac3e3252632cc19f056c1efee3e90dcabd7374ef2294  0xb9312d20ae0f47c58a6b89b87a4857ff9d5298e3340f89cd787ba1507b155182   0.122354  1650541304\n",
      "4         Amber  0xc22dff5da50be663ca31e9b4b7d4d6dc887556f3  0x7f65b9a009ccfa85bc8ef976307a12d1e1d620d922d70a6c8f3c6cac9e76f708  0x8a8e96010552222d175229e07320026fc436ee0b1d8804fbca3fba3517786b43  0x2491cbd478620dcb4c1df5a1f7e97b0485a9dbaa0b010802dae8aa2ac7fa8154   1.856635  1651068153\n",
      "5         Amber  0xc22dff5da50be663ca31e9b4b7d4d6dc887556f3  0xb3e1edff1c817e3c21e40f7ccf804cfb3b26358f65a53887d1c1543716382da0  0xea92722fbd5f96a79ea43e363c539ec5e882627d5ec02d92156453e72daadc04  0x5feab32df73e988c22c95688d7a32f11eb8e28eb39501e6c9945f3ffb39bd950   1.727956  1651159003\n",
      "6         Amber  0xc22dff5da50be663ca31e9b4b7d4d6dc887556f3  0x1b5d8c27d1340eaceff6b7c225e7f615c38e718bca31ced04093ca497385e2f7  0xa97538711ed6de9f9d81a909f103b28f8ff995d748079f7f83aeb39207824bb7  0x6f4d1293dce82863c9f464adf6f7e1cf7b09ca940199a0b9e4da7592bb3bff54   0.891604  1651160732\n",
      "7         Amber  0xc22dff5da50be663ca31e9b4b7d4d6dc887556f3  0xd02af89e64ad14e4becfbc41511904dd3b291948d773c285904499a9d60f7008  0xf0a2cae651cf3b2638b0b0b4ff6637c99244d33e1924f84f6cf1bb2df286d856  0xe5e65796c06c5e3dabde9ca1e58fe904944cd765d26420cf5d5842e09022c421   0.120571  1651256319\n",
      "8         Amber  0xc22dff5da50be663ca31e9b4b7d4d6dc887556f3  0xec7822b82f395bf56305b13f75d0543f9492aaff0ad86259ee270eb950d61d61  0x5126f77e455de1db6a300d3d167afc13ac383e25a1169dfe4b0a528efabbf9c1  0x51040a795b12d285ef079ce1ca218958c99842e646654534da0d01b4d9397504   0.160665  1651596034\n",
      "9         Amber  0xc22dff5da50be663ca31e9b4b7d4d6dc887556f3  0x4354a06be23f61ecaf7d822aac37eeaf94e109475acaa129701dd98177e49dba  0x4c83ed70471d60fcb83d1c89cf3cf0ac55f99c89d7273dceaf8e8ed2b4b22874  0x2695b244a873738efab3387931550af36dacc1b2bf1729322a7b472199b6d806   0.336363  1651687943\n",
      "10        Amber  0xc22dff5da50be663ca31e9b4b7d4d6dc887556f3  0xa7ad4525f039a1eb6b3be936c67f1c857b09627d6cb4fbcfc3133fe90f44d528  0x95135afaba67263bc72248b5d2741e648fed77abf51874175f9c348da35d8bee  0x4832b998ef9cd38fe3834b75a31a9f76c850a42366e9346791443ae413fa9c04   0.046639  1651759946\n",
      "11        Amber  0xc22dff5da50be663ca31e9b4b7d4d6dc887556f3  0x59e85b0975bfae275d8373ae4408e9ac20d143332fd23482d36724dcb49fa6bf  0xb9eb23c77d112cc3b0f38f947797e23314e855782e73bdd0dbdee1c812c00c50  0x4e77f69a2eee86fb69f0bd26fcca8dc0b6c146e8de41dd2038a2c727129a4a9d   0.270929  1651842166\n",
      "12        Amber  0xc22dff5da50be663ca31e9b4b7d4d6dc887556f3  0xe7f6abd94c7efc785afc7c6c352ec9fa1da827c3dab294d6669862b892414fea  0x7f5eceb2b3dee5436e0946a829b30756ae92e30d5bd0d029279c0ea9887af94b  0xfa20786b534be7ec911170f1a8a5e17d0ee75f4e6e5830f4f0ba31916d3ab6e7   0.535665  1651844722\n",
      "13        Amber  0xc22dff5da50be663ca31e9b4b7d4d6dc887556f3  0x7bd5878bb73804238b6d74ef3ca14c8ae24992d60acbdd0d6bebe4e52985a1d1  0x0e446db4b05b4e068dd613626abf10a2d6cf9535fb16145ddc58ecd25f49776d  0xec730ba72e8732c1fdec10b686e68e1a7b614b2bbb5f71a80863f7c7a6df4b1d   2.072836  1651844998\n",
      "14        Amber  0xc22dff5da50be663ca31e9b4b7d4d6dc887556f3  0x801d43058cce9a215927eb354b0fdc7c1a393b0272c13bf1b74b36ac64f71971  0x230390b7d68685dbf409da9c88a21ce89925082c56fdeca2442f39a2fdb1a8dc  0x871bf8cfdb3ff327653387ca9994377139514709eef6d79cf23460e1c9415e29   0.107088  1651962752\n",
      "15        Amber  0xc22dff5da50be663ca31e9b4b7d4d6dc887556f3  0x73784ce0047941c19d6794de1a24c9801b80a1faf004b8e34e6f96503b4cdc18  0xeaedef6589954b80a63ccbc659dacf5637237cb9fa6a760a884d9d88ea85137c  0x196661b5a6cbce3e43f8fee491e93bfff3080ec59b3a9621d639596787437e7f   0.271908  1652112655\n",
      "16        Amber  0xc22dff5da50be663ca31e9b4b7d4d6dc887556f3  0x1b37999c42dbe90f4beb0d7395cbbe7a9112fd8e52a66298dc3042091c429f5b  0x2115c864c2e880b4ce153b14009a20ea8a5c96cbef0c0d1753af365b7368794f  0x59bd83178bfcf267a319c40b1297b81dc95928ff07c87d6717e83b053d4c26b3   0.961330  1652187619\n",
      "17        Amber  0xc22dff5da50be663ca31e9b4b7d4d6dc887556f3  0x095430b92e422ddae66425afb2a49278b2375b9f7f934f05a8f9ed1668913f13  0x3cf6205154800ffc281d359bbd2dd2cc6213ba878f015cce2a6856c825578c22  0xc7455844e29761a27a9c8545b5bbe3ac383dfdd4626795d91075c1c6d21cd9c9   1.150763  1652208187\n",
      "18        Amber  0xc22dff5da50be663ca31e9b4b7d4d6dc887556f3  0x1b5c615c9df88b7fa42eaaf2757787e50ebab054b3d52022662bad24dd8d5eb8  0xd4b267f4cba732efce3d6814937eff5d9315b0c646b21f166dcf68bf4aa846dd  0x059f3352f7bc9d663859b16a0807104c7b9137a36bdf1fed687362947639e66a   0.174684  1652208529\n",
      "19        Amber  0xc22dff5da50be663ca31e9b4b7d4d6dc887556f3  0x3c2d4671aaa421742fc5d9b14b137f2ea7862de90d21444492871e93e85af900  0x8e471f760e654aa4b016186e2b6543292cd8db3989968657070e45e96afbd653  0xb188920d956b99febc9644bf9fedcf0f43defe5d609cf72de4fa97708c991901   0.410467  1652215114\n",
      "20        Amber  0xc22dff5da50be663ca31e9b4b7d4d6dc887556f3  0x4197309becc5f1ad85722c39cdb0ca6a51c7bf5cfbe1d56437257d3181d71757  0x2f503689de6ea8a6efcd582e1a4b3573aee4920160db4adbbe0f9f5eb263cd0e  0x9e154ccd5b7123e446e1c59f385bbbbcf153ccb1da69c9be0b6d7b36c435a08e   0.098931  1652216652\n",
      "21        Amber  0xc22dff5da50be663ca31e9b4b7d4d6dc887556f3  0xb60f5739afa0a37b73cbdb69fc3a959e56f68934d32d1159fb58b3ae5b8b60a4  0x60aafbc2656739b4253739910f773ad84a7b4d50c536ac9e913f597c69a34602  0xada7344b0195cab9ad4c92564e93cb4538ff1bc367c3b022fd29226ed8e709e6   0.743354  1652221568\n",
      "22        Amber  0xc22dff5da50be663ca31e9b4b7d4d6dc887556f3  0x101f4a213df4dc244ec7aa52311f98b486c8f232f620d194384b77e2ffbeb7f4  0xdf4be86590345d456f221de34f486d3ec5f70d34fe2e4c5cd03bf466c5405f45  0xa6b0b27ce97002884979be89588f9edda9250e79f9792bf2e46749e4ddbd5799   0.500485  1652296411\n",
      "23   VolleyFire  0x57845987c8c859d52931ee248d8d84ab10532407  0x4f04a47bb08bb1b9b78e548b308a18ed1ace2f4c2903063f01396afac87e7c5f  0x54de9d9245c62364e1348140b3c79505a1558a9b17c7bb513491d2184521f696  0xed17925dfe4dcd0f64f4d3ad0db4a2b52a9a2eab082eb418e83a68eea5227fca   0.187823  1652443134\n",
      "24        Amber  0xc22dff5da50be663ca31e9b4b7d4d6dc887556f3  0x03d733b679f7417919ed5a2f4de27998fc4c1c7a5bfe85f2e22bfe3e4bd87eeb  0xe00de5ef0743921e7068e3518e1244bb5fb8ce919ac161ba91f6608e82268b82  0x6098f5a8042094d640804e8a7b52dc0263723205f57061720e4ee07da2d339b8   0.004373  1652670938\n",
      "25        Amber  0xc22dff5da50be663ca31e9b4b7d4d6dc887556f3  0x023aecb206d5b5ceae1c67107d459a130e7cadb14b2c8835a1c9618bcbc76026  0x3ab6c390c41c5caa0acd13d3de350ce75de680a38f40a7b31b27ae803144253d  0x62a557efa7f7f8240b668cdf9ba12c356e433640c99988538bf03662cc3bb660   0.059741  1652673734\n",
      "26        Amber  0xc22dff5da50be663ca31e9b4b7d4d6dc887556f3  0x748e8698cf8b79ddb375a4ebcdb7a49ff200e5c1513d42cbb4b2c4a4ddccf226  0xdc71b2d46d7aeefa10c49c99f390ad6caca48770498d07ef6e8ff72562e937d1  0x5701e2b4d8ea72c178028d39793485ab2104588af6d7604e78cc049410b3ff7c   0.072179  1652682046\n",
      "27        Amber  0xc22dff5da50be663ca31e9b4b7d4d6dc887556f3  0xf468c639add5efea7b8026d28c924b93758611a84eed1d60f00fbf803ab469f3  0x45ca8f2c683a9830cdc671de910986c98681a3c30b7085810ead5306e9637cb2  0xcc543eb4b6832536040ee1f0d12f432cd0e560b942e82b04d05a37772cf202e9   0.125508  1652682192\n",
      "28        Amber  0xc22dff5da50be663ca31e9b4b7d4d6dc887556f3  0x7d0ac68d3015bd465b3bc6c9c149aab1968a66dc4bc01c9029a10d0b44f8a833  0x1e143e86b16974a9fc97b07c0476be9ec7c282047a6512bbdd277b14bc2113bc  0x8c08a8c6dc5d8c945d1ce3cbef8f61894d0a50146c8ead7752be0579c9d0f8b1   0.446048  1652702557\n",
      "29        Amber  0xc22dff5da50be663ca31e9b4b7d4d6dc887556f3  0x6310121ec072ff70aed8b8084e839be66d5b37d98198419b86c5d55321487876  0xf454563efe9889ef246d33c192874fec1957aa3a6f8399d3ca9f7468e4a9a2af  0x08b1d71de2203e93a514d16a0b137247d54b4087b8dbb210f9bf96a7030ea568   0.902287  1652707029\n",
      "30        Amber  0xc22dff5da50be663ca31e9b4b7d4d6dc887556f3  0xc2ef070970c1605b592dd16f26317b465d3ca76f4513a5970f4ac1b5c3dae735  0x69f9238212986d36ff20f3fafc20b6697c3d8e1d5ae568931b43ff9da8d6045e  0xc4d474f44fa40a03fba26e99a3901929bda0a3ef0bef5e3e7d5943bc0564369d   0.271685  1652717571\n",
      "31        Amber  0xc22dff5da50be663ca31e9b4b7d4d6dc887556f3  0xf2d36a2d89b3283d3d82499c3af68677a03003ba7bcd0cf776f5919753103d3f  0x401ca47161353045b2d4c14152dc1e26882742e29319713b35ea9c8509dd9116  0x59a03208402f67c3933c11df09f628d126ed0a4f4c97b65f0bba3c6b04ed206a   0.144288  1652718029\n",
      "32        Amber  0xc22dff5da50be663ca31e9b4b7d4d6dc887556f3  0x1699d9436ef1276e8a202f30b70d5a140e855d6f00089d9e99ddc4ccbbb25184  0x863b30f89908bed903271cdc249064022e93479a5c850422056aa54e7113b357  0xf0045e4db2b12d2064a5f87763f3b6bfff5ee51dd32981d8db0c0984f4a22bc7   0.382889  1652721583\n",
      "33        Amber  0xc22dff5da50be663ca31e9b4b7d4d6dc887556f3  0xd4a535ef8b2bb4e7fa4fd3aa7d4b4ed4a58222db6b9a04b10a274b4b64896ee4  0x4372c496ee38f7e83d002ee200cc7161bb0edc64740ba9313fb3700f869d1b03  0x15838f22bd987c9aa095e2d01ebc72bc9e097e568b70460b58703ee77d70f8f9   0.247747  1652723208\n",
      "34        Amber  0xc22dff5da50be663ca31e9b4b7d4d6dc887556f3  0xbc316238dcb5cd1989ab7be793b7f67df4feb1f565ab8c9accd75616db032532  0x7477bc42d53a2cfc1d8eb3e72294e39d99795594632445a14354f6509e7810cc  0xeb37625e29470c10cb5ea090ae1b5ce6daec95043f32db671fb30695b9ce9cf3   0.097538  1652801055\n",
      "35        Amber  0xc22dff5da50be663ca31e9b4b7d4d6dc887556f3  0x076da6c3730dc27f25619048f7bb1e9b29b16fa721f5a27ccc07e00a75c8a233  0x447af2e48cfb6ea72a444641b7ff0abc3e8891ad13a89b70aa6fd46535b09358  0x40bd53bc238f57e4bbafac78181d5fdced8ce80ff23ae94ff0e96f45f8f63c21   0.384535  1652801670\n",
      "36        Amber  0xc22dff5da50be663ca31e9b4b7d4d6dc887556f3  0x10450a3d2ce57b826362d883ad7f9b00f6f6ba65bb53d42b34511708a275c70d  0x72ce397e566216a06409a2e1e957cb57f6ccb0994ca2098b0578a434d4b8e4ba  0xb7e30193fe6bf92f1939dc02dfc886dec3b323ed73233545a45e87a3af03b897   0.170587  1652801732\n",
      "37        Amber  0xc22dff5da50be663ca31e9b4b7d4d6dc887556f3  0x5d686f3fd14e2d395646396268d83a3d8ee87f8823f917529749b520dcf9fcc4  0xf5ac2c90bcc6df0851e32f49ef1f839078a9835932150499cf00390848f499da  0x603d20d17ebc5f0e79905a66e519a2b5c1864b7f1cbdcad9dd353aa179d649f0   1.085474  1652811468\n",
      "38        Amber  0xc22dff5da50be663ca31e9b4b7d4d6dc887556f3  0x830a6763b4b70528aa8bb36602251194cdbe155256c1e7c2db00c53dc427d170  0x069b36c58dc18e6beaaec2936aad1eac80a9de4d6dd82c9c752f6db59328624e  0x78c16f398a3982ce8252981970d307e80a34d7b854551b431d48524a12fb36f2   0.731833  1652812374\n",
      "39        Amber  0xc22dff5da50be663ca31e9b4b7d4d6dc887556f3  0x760f1d7cbe1de871e3cbc0c0d33611c613a2eacdb57e74875a7ab011228a0ec4  0x511b2cc03560b6f139e517fbd3d727f3c3e3d314f0fadb9fce2e3e142875b59e  0x94041409a8d441f387cbb61027382316d78ebcb2286d24ca1a6442fcddbaaec7   0.272134  1652816387\n",
      "40        Amber  0xc22dff5da50be663ca31e9b4b7d4d6dc887556f3  0x4cc0cfefa747037c1841db977d4785b4b6d613896c004a80b0e80cea2470ea7d  0xa21c86b1575aae3dbec7bd5044ee48ba655d1c64a5153403eebfd1ab5c498949  0x0a1c0b6cefa6cd8d73b4d4bd1dcc6d6f424913f579988e2d57d8babf54039757   0.628730  1652819485\n",
      "41        Amber  0xc22dff5da50be663ca31e9b4b7d4d6dc887556f3  0x024bec2edbb76167431db1106f871dcb815654e3155976f95873d14ec47c40a6  0x9388e0a516e90ad662c2be3e48f1fe162f8a3863f0431e31563dce081ef698d6  0xd9e0089a8891d09c5f5a80e0c255a3e3770bbc6ec0d8a38d8b1452a38ba6f6f4   0.653454  1652832189\n",
      "42        Amber  0xc22dff5da50be663ca31e9b4b7d4d6dc887556f3  0x2fe19d27ca7eddd34dafe628e05db30b9d5c7d15522e0d1ec7cab99a601ddbd6  0xb287e76053c8dad66534e4d0aff552d3c03b8a676a87f3f4b0eea0196cf20b09  0xd7b4eb000bd3dcf254710c512754650e33c3749d1e2733369c8cfc281bcfdafa   0.046472  1652874459\n",
      "43        Amber  0xc22dff5da50be663ca31e9b4b7d4d6dc887556f3  0xd301768767f78d4a651d90a47c160066cffce77adc13c573313565c38e116079  0x472d0aff108652408b418aaaeb3dcb7f53ec04c423ac86308b2f0b0703c14ce3  0x3e71a4b0611d60ded333a721c8c362088ea46819496bcd0009cbaa832d93c3e8   0.012094  1652878891\n",
      "44        Amber  0xc22dff5da50be663ca31e9b4b7d4d6dc887556f3  0x861fa9f90493beceb7db7b317262b26b74bcd709d0a03a847e1e6978b72b183d  0x4158a33ad9bc74762317d4ea872a08cfde3d0ecedfbcf8100bda1b26d6e19757  0x83234977fe7b59d1956b14b3081fa2720c06498f6375fa6a650251418e298be2   0.671275  1652880925\n",
      "45        Amber  0xc22dff5da50be663ca31e9b4b7d4d6dc887556f3  0xe7aa98cafcf109a3d01d34617cb82a4907922db71889095ff1734bc18acf4d01  0x8b01414675b93d3ce871b6b415e696248d9957ad61ca0c109603daaa4febfac1  0xae6cfa2f0d4ef2791df8d1028d783df0a3a33b0f83a8fc401e60e2c9159a9acb   0.459644  1652881441\n",
      "46        Amber  0xc22dff5da50be663ca31e9b4b7d4d6dc887556f3  0x7531121409b1938b2d4d432a9a03ff59c848579748eae174babc6fa0b26c8692  0x6acb6ac52a6cca5739428cf447361d9bf7b4436268206bb66f7d1d5bbac74b7c  0xdc5680ced203ab8cb810f82cbe9dae79b2b562ba49b69aca2bc768de17acead6   0.172652  1652883270\n",
      "47        Amber  0xc22dff5da50be663ca31e9b4b7d4d6dc887556f3  0xfb89db484546b519ca37919fa7ef270b0a593f03a675423de08079045ebe152a  0xd9d548e99fd1395ec5030ffb2ac6a617073629cbe9934b86a31633e03a2ef3d4  0xd43979662914107f0222c93dc94b1cfe159d3b890efd44845c9aa74efc553238   0.892977  1652892173\n",
      "48        Amber  0xc22dff5da50be663ca31e9b4b7d4d6dc887556f3  0x1f5d93c159fd3f0c23a190831a99042fca343dfecaf28d21fb4d137c8520108e  0x8ddf4b10f89ed68f2d4114ec3213aa95c72676cfce31dcdf3cc95214a920ef69  0x31a6c042b3e69b183de8cdd1ad3398dfbe4d8726fb930e934bc3e824c7159e3a   0.230582  1652894620\n",
      "49        Amber  0xc22dff5da50be663ca31e9b4b7d4d6dc887556f3  0xc98f67c26bc7a149845ec8efa2691da0ef54a831c5d80211674458457d3a12cc  0x8b2c8193cb3f3bbbb01745def986313da02c55e98c3671bba14db3cc53e63d7c  0xe33fd1065b0f4c7a4d6826c16ada5a27e9d43ea1002f800cabf6adb2237c0af9   0.886134  1652899743\n",
      "50        Amber  0xc22dff5da50be663ca31e9b4b7d4d6dc887556f3  0x0fddedd2c08483102fa15d9c140f294cd6b53faf192f948e6c160de9e3dc099b  0xbe32158aac5f306468fee17237cedefdda99da50a095a6c6363e9ef69161ca74  0x44ee616de6c4d5c4145018ccff205cd9d337d8af50b664a9800f2f6e9527f90c   0.442494  1652900432\n",
      "51        Amber  0xc22dff5da50be663ca31e9b4b7d4d6dc887556f3  0xfdb544548be248b9667b4ef3752e36903f0afa141597e71a155d8240db9f30e8  0xa3f9222e1e882ad30f869ade82bf130d79cb109b5eb02708cad0eeb07ad24999  0xc50715c5f612a2620b1e11851cd9b13efc662376c9c690a8c751408a2d32c3fe   0.996013  1652902999\n",
      "52        Amber  0xc22dff5da50be663ca31e9b4b7d4d6dc887556f3  0xf5fc9ef9cde3464254b090fda07c120a906506acc889f7b5ba222303a005aa9b  0xb44f7d6c2d0fede0b1f014f5862b0275e3171fddec25ef58c8f6789acbeac99b  0x349221134b8e865f65def752da68ae0abb0e9c9469c537ed819ee6234c131806   0.480673  1652912318\n",
      "53        Amber  0xc22dff5da50be663ca31e9b4b7d4d6dc887556f3  0x72ce60fe96b03c3afad005cb56cb1f6c0700e004f196b6b4be0108e6ef2f49be  0x21411663548183f7dd438475b39d3a07eb3f43c36e2d9480a2163a3159ce4486  0xcbbcc1e946e9b54416a128c8371b0218f27b6a9ce0b46f5e76ee6f476da902ad   0.097702  1652918586\n",
      "54        Amber  0xc22dff5da50be663ca31e9b4b7d4d6dc887556f3  0x089866f44ffde28c236b9d4b36b70652bbaef3c78308cf57634d8e54a85d2057  0xd3eb852bda90a04b4ee22ce41a832a048e24e3d5c0ec6eb0c1811ea58af8b32e  0x58b2568065a827cf2aa0408ee7f34c1fcd5d5adf42c6ebaad92a6fba61aa1992   0.247762  1652919166\n",
      "55        Amber  0xc22dff5da50be663ca31e9b4b7d4d6dc887556f3  0x1941eae72f1d19b70857a1275724b815505ebc1478f83f79ddf40d35ca66f8be  0x065f232ed564e9c653257a63c9f5b08351f83c4bf5e5dbc048789bcbe8330cb0  0x8bac35fc21e9d749a513d4b58aca123c941a95c31be11d948a8ff47ff4b08f8c   0.568350  1652919508\n",
      "56        Amber  0xc22dff5da50be663ca31e9b4b7d4d6dc887556f3  0xd8c30d78a8906842736bd1e8ebd60d43d9e5df471949cce01863be06026bb9d1  0xe793fc4d29acb9e88f3fd267fdf728ac787118b2d43dea9e13036d2885009591  0x5bc19f3313b4dac471245aaa5e6f6a05e8c3356fc66b6a8a31a6f5458b8b7ff1   0.278197  1652919827\n",
      "57        Amber  0xc22dff5da50be663ca31e9b4b7d4d6dc887556f3  0x08bb30ddc6fe2f0779d30de58ec6c331c49f99eeb5435d9230e7a0e07dc1f074  0x53c7f27c41433df8dc79a52eb43420a28b2ee3a4af417ebea37a35e6731eaac9  0x21369cd56eca967719dfe263fbe9bc85844c2f56e8044a7e6d69ec7de2f7591c   0.446387  1652924177\n",
      "58        Amber  0xc22dff5da50be663ca31e9b4b7d4d6dc887556f3  0x1c032aacec03bd97f988a5569969c23ed1db8ee3556c5f89c4eabc6fb8d97ac5  0x52c69e058279f3f3090715906af2dc04b9e1155772303cef5c217381113586b7  0xb82091377230a30bc0bc43701a67201e98e9742e5cc8e0aa28d258387c263cd8   0.074119  1652926081\n",
      "59        Amber  0xc22dff5da50be663ca31e9b4b7d4d6dc887556f3  0x06f13ad1f27ad7e88a0e0f6062b00a1b08350b4be1e1fd09e34d17733735a0e8  0xaeadc8f5b316c3e497f3962287667b7079a853aae109a8d05fec5f80f3bfa053  0xf9e3465959022a5facbfa10bb078633ad389c8023972ae60ae0ef1890e643230   0.101887  1652930098\n",
      "60        Amber  0xc22dff5da50be663ca31e9b4b7d4d6dc887556f3  0x9916091a173973c08d36359b987d2ae65b4ede2e3c67b46432bcdfc9de9ee454  0x28d5e3b7439539a5a47581ab75d9debe2462b35c819eacc568084e9dc81f0f92  0x55e261bccfefd00fe59034b88ad0c5f6646d71f7f97f3d99286ea658b79ac1b9   0.128175  1652931855\n",
      "61        Amber  0xc22dff5da50be663ca31e9b4b7d4d6dc887556f3  0x2eecac08b92f735c7a9236c366df928537179b6651886bfb468de2280290a4b1  0x31fd229d179687dbd5f112662f77f0e29f738968006f0b424242503adf9893ab  0x534097abad5ac0c670135dcf25e4722518cb00c716d2db42aa9bbb1eb31419db   0.080587  1652954545\n",
      "62        Amber  0xc22dff5da50be663ca31e9b4b7d4d6dc887556f3  0x82309e410cc08b797a49a2dd30d51fa29e0da30a3949b6856abddfeeb3d0893d  0xf818cea6cbe4cd35ad2b8d380b25485763917fb84d58d002c8dbfce2ecb4eb2d  0xadae6f381bb6e8081454609a5ba70c209e1a3d97f60d17d88dcc44c7cc8f5114   0.540242  1652958759\n",
      "63        Amber  0xc22dff5da50be663ca31e9b4b7d4d6dc887556f3  0x15cfb780c55b6b983f2061e4aa0f9bb2d9a7ea7fe0b15301ad76b8fd7f59a7ad  0x6b4723a4de3ce24152e01faf42783bb39c53f31153ed2acdd27fea52f29c573d  0x312ba50cbd948e9255b7463d715d6c64805a404f477582230e1cee86b43d2451   0.397769  1652963233\n",
      "64        Amber  0xc22dff5da50be663ca31e9b4b7d4d6dc887556f3  0xaab9d3e06863a13cd9a0719f919324ac144947538eb5b95049e860af960eee3f  0x891fa171ac5ef0c5f8b024192ad690d64b53cf8e0a1a6e2c84316ca5fc3441f3  0x2b969cefa1a76b36bee8124c22581f2b08bc2c2aadb3d33e815c8991df63ce47   0.313775  1652963483\n",
      "65        Amber  0xc22dff5da50be663ca31e9b4b7d4d6dc887556f3  0x84bb853c7e2fc13dc12cfcc65e35da4c6b665ccecfebbcc78f05da16ff2f8aa4  0x7514ef4df2cbcf4f55fac134ff4bcb837b9c668917ac6f0ebe6cfe2f0d58ab5e  0x074ae3c6d3a84dfc57cdc42c4dfee9fffc56ee3145af030777da81825b85dcde   0.200768  1652982930\n",
      "66        Amber  0xc22dff5da50be663ca31e9b4b7d4d6dc887556f3  0x34b905a4736219723c95f31eaf29f6d9e6888b8cae16d79a8204dc77f161b129  0xabee7c62a980238f08f8f75ec3e9c266c28d6c1f191dabc430949b98599d8348  0x7ff71a79ee78974e0dbea1aa563f781a83aaa8dbfba7f21a82ef947a884cb5a1   0.146458  1652987049\n",
      "67        Amber  0xc22dff5da50be663ca31e9b4b7d4d6dc887556f3  0xb44220a8e1dc43b4cbd44d17041d609dde63edc35be0ae25c5a208308e2df21c  0x1891f8561622c3b49733e407a03e98de46cad99a70b11f83e99231ff95c4412b  0xfb334c6d1950ff53493a440387c4eba8899b35cf7564d491f2283fd7e56b7949   0.105298  1653001821\n",
      "68        Amber  0xc22dff5da50be663ca31e9b4b7d4d6dc887556f3  0xac05a6264a03d1d26682d89692eb532fa10607cc4c13574c300a6d6a3f6acc7e  0x3743c0d92b526c6157ae63c25e4d5a7bfef512a8aa0d605ee2ec10a6d01641ea  0x87c35d056dc05abc64ed71ee296b1774a4607fec6da0284f8bc6f93c30b4dec5   0.157116  1653035374\n",
      "69        Amber  0xc22dff5da50be663ca31e9b4b7d4d6dc887556f3  0x22494d3957c4ced631c02894e4333fe195441f781ec473139c250a309c67fd91  0x08fb257e9904c4d2ccc6c37dd2beea61e72da6067fec46ad56fb5428ea0627be  0xbdbf4a73b2302857b3121d13a244ec702ce6c135573dcdcfd723fcbfcb7537d7   0.183660  1653047861\n",
      "70        Amber  0xc22dff5da50be663ca31e9b4b7d4d6dc887556f3  0xdd1a82bbd45180af92d8dfe40e23422f86f75d16f356b41b5571701116070f83  0xeaaa6a0e1e261f00810b13b9f358d77d443736d2f996bc91fd2599131e027034  0x8adba53d3ab6e85faa97e9b3b493e09211717f20c0e90e6bbb52e332f164559d   0.371605  1653053433\n",
      "71        Amber  0xc22dff5da50be663ca31e9b4b7d4d6dc887556f3  0xe5ac32709c3db61c93d00f72afa29e63730752e8878975f1d5bfdda11f142dd6  0x07f0d617ed4197810a9b928dad203233db0fbbf153464a8567ca3d23b6df60a4  0xbd7515033aea6b59eca6d85c58c45b874f0381a56524ab437d9d278c75690351   0.256809  1653057035\n",
      "72        Amber  0xc22dff5da50be663ca31e9b4b7d4d6dc887556f3  0x2a207a19ce170a5c297685388152e24f37b647b500e9bf10cd2fb0f992f69e13  0x0a39bc6af02d7e3191540d03364a54903ca4f7054e950ad24e315e7af58788f7  0x2e6adc82705163b742a46c32c90c8b2105e54162adb5a8c13e3c1a3d72924e65   0.222402  1653059776\n",
      "73        Amber  0xc22dff5da50be663ca31e9b4b7d4d6dc887556f3  0x37257cff1c9b08743d030a0396bca9d726a28b98af4b1eca812219d9ebfe0b28  0x343986794da8a2f348e4ad313f857109388a0ca6fd66affde8adae22d752a521  0xbc28dbc475273b0e2423602796c33896a96751d74dffb8c629fb5f48590a2753   0.308500  1653062822\n",
      "74        Amber  0xc22dff5da50be663ca31e9b4b7d4d6dc887556f3  0xa5a4f1e203373d9f8bb47bbdfe3aab14b6ae73a0096a5ed958ed530590659a33  0x2c20faf2952ab9c1a98c65f8c5f228c6754db3bbf339dd8692b918a3ae16c03a  0x2db12ce9fa141a3cdb17ee86011c6d699f61d685598ccf467cf2503072b8ce09   2.761016  1653062953\n",
      "75        Amber  0xc22dff5da50be663ca31e9b4b7d4d6dc887556f3  0x5f1a8f507b83798f53370e7ef70a6cb8e0b3911b1574f9af23f4d23ce4ec4c71  0x6b54eafb1c7d86373f0b38400093ef7c1264ab4603a5aa47096f7adaf66b37ec  0x8a9caad9801037be7bfc0df35615ce1008212513f12b50fe6bf3bff492d8fdc3   2.970803  1653065282\n",
      "76        Amber  0xc22dff5da50be663ca31e9b4b7d4d6dc887556f3  0xcbef96f906ae5f6a619af94c72653923c0fd834066ea83fef9d1aa0a2f264f55  0x90227eff5723cedd6378797cb8fc08995e1f9f20f57df23749d327bacd7c4231  0x2efaeb7c3e2e763927a79c711746a9ef1462ee11f3cf4a625d86bb9b3a48b2a7   0.224961  1653066210\n",
      "77        Amber  0xc22dff5da50be663ca31e9b4b7d4d6dc887556f3  0x6104366e0742b31338f359b78be90a4c297f7966b722227fb6832c8ed3bf44b1  0x92630531d5a0f3b1a6bea2167db875e9f86f2500d3a70335df2694d60b8b3b8a  0xaee482618ac2fd4fb620717ae5ec2170d9ccdce200cf1141700230e698cc3b5a   0.189147  1653069289\n",
      "78        Amber  0xc22dff5da50be663ca31e9b4b7d4d6dc887556f3  0x13020d131d818d3412aa62103438ec2123514a7b16997dcbbd3741178523d5b1  0x3af5e671db24ed4d0901f09f66c18261d35bb603351c3b463e65e2b2e9722bdd  0x0effb380c63bc00fea01416168622d92e228f38c8430f8f81ad9128a3507897b   0.280330  1653099744\n",
      "79        Amber  0xc22dff5da50be663ca31e9b4b7d4d6dc887556f3  0x1450a7a5291803550a574db6d75123c6fec374aef751c9e0e730bbacbfdb05e7  0x2b128655dae91f867213f79993213bb3597e829ff8531e8062b4dd7fda5b5717  0xacf9981fd8c2a16a349e10a3f4dac9abefa1236bb1f155f6b7ae4953be79a4ec   0.845213  1653212546\n",
      "80        Amber  0xc22dff5da50be663ca31e9b4b7d4d6dc887556f3  0xfd0426c986a7e2d842514e8701bb3786ab479a3716c5bd151d8d637907109b15  0x7410ffc86d859c13443e04063a7d78fdefea6216082a86ff718ef835f384fafd  0x4b0a64723628c04288d8ff08b3306b003c9364cab565b06dd5904eb0b1c862cb   0.419457  1653213747\n",
      "81        Amber  0xc22dff5da50be663ca31e9b4b7d4d6dc887556f3  0xd3916a0687506e566f091e4db7419c42361d44a80cf440fa463b42266c10ac9d  0xba13bd16ff6caddc0c4ff2da94599d456bbbad96e1bcd44133d236de88d06b02  0x338514337fe0ef9c8cabe289eeba21dc88726446dbe719f52c58c31f95828359   0.281767  1653223455\n",
      "82        Amber  0xc22dff5da50be663ca31e9b4b7d4d6dc887556f3  0x43caf005670d095df4240ec227eca7d6c09aa54e3f6df1c5e61bed905afa2ec6  0xea87e8a9e54c49912b3da469cabc47986fd990f79f67c1be9b4e0bffdbb33409  0x09ca898230ec1d41da66270bdd0d2718de335bcfde02a8546f5c223a396f2848   0.595254  1653313744\n",
      "83        Amber  0xc22dff5da50be663ca31e9b4b7d4d6dc887556f3  0x485e646fd370d4075036c00336b0f6895e42f7e8ec666e2856210501e3a913a7  0xa2f856bd5778c51deb892140ad664cb58627bd47041f6ae443bd143f01620e4d  0x095992a774ddc110cb82ab0cc635e2c382903d58b0ba4753afbe3fa04b457251   0.174195  1653316492\n",
      "84        Amber  0xc22dff5da50be663ca31e9b4b7d4d6dc887556f3  0x3aeaaf49c78c34bdc8d83907200f783cf4f202ab24e9ed97d8b4bab19464e50a  0xc39adad5e9d536efe7e7db83aea4ae57525c670d36a478f6dac6bab673dfbe46  0xe4837d3618a5f07d839a3670091eb9744b475d19f7c9fe41f468bc4519d473ab   0.240917  1653317412\n",
      "85        Amber  0xc22dff5da50be663ca31e9b4b7d4d6dc887556f3  0x2b0213105d1b9adb060ef0c5bde2d9399b64ee587f1f5916c23566759c6f1527  0x8a6c77eb68d1cca0d71404cfc455b93fbaec4475a89004a52a0be25b51fb0894  0x4ee3bdcb342bb5225a3d41768d386595674dc26c51aa89155e02a32f1dfc7c79   1.296564  1653333352\n",
      "86        Amber  0xc22dff5da50be663ca31e9b4b7d4d6dc887556f3  0x77fd0601df1c4fbdceb9e43965d95d3a9f1c4fa40361f148c7b9f57396f632ab  0x33f99c91ab93642d8fa39d63158cd99adbc47c8d8c268dbc5897f988df86fdf6  0x1d04e964884a8bf664ca49e4932e45abebeb07841e6b9c70b7ab0b6af6ab3d1f   0.301271  1653334573\n",
      "87        Amber  0xc22dff5da50be663ca31e9b4b7d4d6dc887556f3  0x078d9f13d691a91f95e0803be7fe684c6d6f2944a704251830e7fe51f93b0c9a  0x00235c5e8680b01d88ceb21440bbdc9d4f8feea95c79f6ba7fe4f820536563b6  0x8895b837a4cdeb628fc3bc8717d57bdadbfc79b8a5a80b63242e5c89e6f2aed0   0.277299  1653334573\n",
      "88        Amber  0xc22dff5da50be663ca31e9b4b7d4d6dc887556f3  0x15d6e2b02f11747d64cdd0c1bea5abf6c05741c7e1692e0ebcfbe53b5989c3e8  0x0ba93ada5c78698a17c4d2865f41849ffc5fa347c86db89efe069b6f4536cafc  0x5a8a6981e5435309dff9cabc23e6f3fc68363133e6e95a8ece37381c30d3dc1d   0.471878  1653348640\n",
      "89        Amber  0xc22dff5da50be663ca31e9b4b7d4d6dc887556f3  0xbb9eed4a32158668b28d55711533ea40920a29676e4875b66d1adf6d8eee7096  0x158a4f3c83148deeff689006105dc4177a91c8567a4513ce4c7f329f3eaf44bd  0x7e825939feebb9d58f58c5a0f9923d1d7e0de2937d812731ca709b7789e764a7   0.275105  1653389236\n",
      "90        Amber  0xc22dff5da50be663ca31e9b4b7d4d6dc887556f3  0x5d775e5c560deb27f8f4480b280215145f99f5849529f0e13af78184210d3163  0xef7d14591f04c6e38eaefb845f40f56a2e11b2b7137d06ff5c0bf2501a43f70d  0xfd668ffbd1154d8a5ac7a7698709735791455628272d20a074d804beeac87c28   0.638757  1653399701\n",
      "91        Amber  0xc22dff5da50be663ca31e9b4b7d4d6dc887556f3  0x957c700b0aabcfd2e6f83d9e00722338df6e53d2073eb848cb03d6c21e869fb7  0xd35e1119e063cd9aa704c331c5e3997663528617f26926d430d4cdfc54ff8b15  0x17a8715525776f371f64fdc8a516e8d615b9bcc277e4aedd2d3c97af78127d0d   2.154648  1653400120\n",
      "92        Amber  0xc22dff5da50be663ca31e9b4b7d4d6dc887556f3  0xa1082d3bd270995793805360cf7a0cefdf5103cdb2dd5f252c12f5892fb77495  0x8426f811c1eabfc2b02cd6e33608d33debfdc5db58791353730ac38bf3911466  0x2a83ee15b322a6933642203db26ef7ccfd2e5c53f9670dfa0a3f34ae271ac479   1.156255  1653401291\n",
      "93        Amber  0xc22dff5da50be663ca31e9b4b7d4d6dc887556f3  0x797fdb94820e082839dd7b28ddb663311a314b163e05c8a6113d0bbb962c2904  0xf4634de4aa7b3c69dee9cbe2bddbc1990f9fa5a847462215fc1383c845bab463  0xc14690c775f31521a5bb0b90bf7bf574454a633cbac6b573d5d1dd4eb20ed93e   1.020007  1653401313\n",
      "94        Amber  0xc22dff5da50be663ca31e9b4b7d4d6dc887556f3  0xbc3d2ba46deec1bbc1ae78f1a0847030c00d9898793df3b9bc7740a6b05793d2  0x1d52cfec5c58b86bc3ddbeb00c175b1c5c6ef57969d7fa1446160ad74225265c  0x8560f763bb52ad74cff31e4917e609f731b3bb360ea1ee9b175cea73fdb704b5   0.983407  1653401374\n",
      "95        Amber  0xc22dff5da50be663ca31e9b4b7d4d6dc887556f3  0x03e05ba1b0332db6adee470330456985c5f99f42e4238ca6129a2e714e090120  0xac84d24270d99e58b7c14d1453324b2ddc03f3fc03354c371862949579568484  0xd9e07157f07f2c479d009b5b960972e51ee9ecef8e20dd7827b1aeb3a4698e43   0.190409  1653402024\n",
      "96        Amber  0xc22dff5da50be663ca31e9b4b7d4d6dc887556f3  0xfb21454f8460fea28f51da6223136e096c17cb954aa832f07d55d6754dab03fb  0x8b36fc70479703b6b19a5cfd6251d116da802d276208f98e347e5013f027941c  0x5f23017a09e9d953e3aa373c81b7bd0f97ed400e2ce38edec845aae7fbc4c4cd   0.321787  1653403145\n",
      "97        Amber  0xc22dff5da50be663ca31e9b4b7d4d6dc887556f3  0xa7d19f7528e11ee2bae0ee1fb88d576a7980662a4a07f8e5ba402baa0d7e8238  0x06e490f988da597cefcd3134e8ff6e240f22117d7177327cc3e723dbcb6867d6  0x8b28121d6b1fa16ae5be8cc18ec5dd4c6b0e8d24d90041c9a441fc4931222a84   0.801805  1653405394\n",
      "98        Amber  0xc22dff5da50be663ca31e9b4b7d4d6dc887556f3  0xeec78e3e8e4e8105645645d5f773a28e529ca70854593170cee4e827458736c9  0xda027ffedf687d25499d6dccbf92302a5042d76de4c021ca4085d162fe5a29e8  0xd73d8fcd52494d06d5a51565e7ea48f9491732d08391695fe9939053418053a7   1.607647  1653480384\n",
      "99        Amber  0xc22dff5da50be663ca31e9b4b7d4d6dc887556f3  0x364f4e44f26056144420e0c72483664e1df43a1f7a8ed0184ab4d7ffccea6af2  0xac39bc19fd58a9f43a139673cb5b31fe95acaab66d47e322553c738406515c55  0xeacaa08d19a4c07d9209456fc503d66259c11ebcfba6cc9502190739b6f5464d   0.410805  1653498600\n",
      "100       Amber  0xc22dff5da50be663ca31e9b4b7d4d6dc887556f3  0xb4a26ed73820e58a48adc81199a08661a8fd82e1c018410f680a306b423f0b06  0x1bae121a09ca687994290fdf19e163d267ce5bc4bd280d6fb42171f3b37c874f  0xf0eb5362e8210fab7adba4835e27f75824e62aa59bc94e7e10b9d06411bbfac2   1.166082  1653503238\n",
      "101       Amber  0xc22dff5da50be663ca31e9b4b7d4d6dc887556f3  0x4cabb554b62147d753fd1d8943e8b4717271f85133e286c338cd8d19af586fb7  0xc718cbda6f26dd38faaa0ab044db7fd6974d5edcd1c060048e2674298bd0b994  0xf251a6ed4a6fb58fb8397a28ae8424492d859d43f0cfba3e605adc4a531b753a   1.515494  1653520861\n",
      "102  VolleyFire  0x6c2d992b7739dfb363a473cc4f28998b7f1f6de2  0x59bf20d127c81b53b8105b9d9a92eb5f8e900ff459ba5f15735c07772673ad6d  0xd6a12b9a478943bec556fe8804809f894166a2e666a5f3cb846e9018c8129fbe  0xbf08aa25eed4d6492a3f4ae16375c6842805a2d5720215c84cae68587dbde5d3   5.523498  1653553313\n",
      "103       Amber  0xc22dff5da50be663ca31e9b4b7d4d6dc887556f3  0x8d85b9c8acc937ed38ec9fa31b6f0a6421031fdb874b42f2d0b4f4ceab0cbb4d  0xdb78e3b5b91513833842f658f08516e3ea3bdf67f8da7be5ad2285318be4d4a1  0x046fe5016a5af9d91e7e1f7554780e2a3331857695d362c63a6aaad4bc21f761   1.635378  1653554403\n",
      "104       Amber  0xc22dff5da50be663ca31e9b4b7d4d6dc887556f3  0xfd9c09b7d201025d02620da520f100bf34e80472aef3555d7918a09095fb87be  0x357aeaaedfe678df3c24108cd8f5a40caa56e5a7884009695d78ce8951b896e9  0x86a65b881cc5646d37c374aadae0ae85d5878253c62620fc985d7b04c67044f4  10.441691  1653563451\n",
      "105       Amber  0xc22dff5da50be663ca31e9b4b7d4d6dc887556f3  0x4338712e7624c8dc2f2dfaa98f4812f40108ee36bb1493e767980442428513d9  0x6ea47b69c4988eeb48deb1dfe97eda22cfd5c1a54ff703de2f0505f89195ed09  0xcb8c20c88062779da45be9f960dc45fed3a61a74c1ff4e3729ebf5e97f2a831a   0.842299  1653565027\n",
      "106       Amber  0xc22dff5da50be663ca31e9b4b7d4d6dc887556f3  0x963689d6fe276942a8edd35919c0189312841eda8167be870f90ec04185af7a5  0x349f1e9ca46a035123c6639aca97712a4626ab4ec25ef71be49b790297a2d904  0xa85bd3131b34a9fdf01514a4070eaa8ae9d373816e8372445fcb54815345e727  17.624688  1653572921\n",
      "107       Amber  0xc22dff5da50be663ca31e9b4b7d4d6dc887556f3  0x0312acc4ccdcb3b3407c4b7d9dd16ea1a751441a58d4dd32c32e538308d5d347  0xda9d24c119e1a1372d5933845668e67d302294a706efcff9ef1cf968947d5b88  0x5d624964c2bf43803cf0c065dfb77d14d32249c3902df0742ac2ca05ffb55a99   0.303656  1653576538\n",
      "108       Amber  0xc22dff5da50be663ca31e9b4b7d4d6dc887556f3  0x1f6acce7eb6ba9bc77ae39d687fba85a1567549b3375232b084c8a66292456a8  0x50103a4da2fc02372b8679a191cc50cda50e2b3f9b947b20be42bde61115b5f5  0xfa32283922b2a45765bdf6c2439d07b9dae39c569b5090bf3d761cbf0f9f97a7   0.727106  1653597120\n",
      "109       Amber  0xc22dff5da50be663ca31e9b4b7d4d6dc887556f3  0x2bbccf44fdc816f0f84634d377f04d65dc31eb909422abcf59614380313c5f0d  0xe7690831bcea1e760faf03c93bfe375c64460ef71e27ed20dafc67821cca4650  0x5f5f83bd662f955a8cc4f80a60a5462defcc3d1d5da82d26dd8566cfc7b43890   0.132798  1653606688\n",
      "110       Amber  0xc22dff5da50be663ca31e9b4b7d4d6dc887556f3  0xeeec9142898c199e6ecdb5fc8df988e7503271815aee1dd20a94a5e09848a827  0xbc63a7c67d661e68fa0933910e82e1c831a545a8ae956dbf2541fb8351542293  0x96b1ab7b9e9467fe394894c503ccd523dbcb8379e29bde7d5a94e133a5ab4a6e   1.224710  1653613373\n",
      "111       Amber  0xc22dff5da50be663ca31e9b4b7d4d6dc887556f3  0xf86508cac498038791f8a510f476cf9cf12b42fd71be8d2143b75de7aff1628e  0x465a1553ec667398bbd3a515a5b3b1d1290b02cb94cd98a30b199e58c54df634  0x49275cc2d4a057e73dd50cba90ef6534dc4f8989b0600eb1c26aeb6581b20505   0.676408  1653617493\n",
      "112       Amber  0xc22dff5da50be663ca31e9b4b7d4d6dc887556f3  0xbd4a86b2d833faa9aac96232b0c20074c6e13e5d3bea7a13cdc577b2f8465a86  0x05c52ebf5f0a96d85f31acbe1e8b04c96d77de7c9728ad608443cf263c976a5f  0x6e65ba3820395b348fb6e397414e9126b832bea4d12b2a67e9da0982c5159299   0.392374  1653618613\n",
      "113       Amber  0xc22dff5da50be663ca31e9b4b7d4d6dc887556f3  0x3024ccac43533378f543d8fa61c852c2a50f4691607e7e364c2692c28b4f549b  0x5b2d6e9998a50dae7ca0f25d2eab40ce281ead07baf84113ae6c5d9d1b023752  0xfd3cd39dc1c716b8b30a0a4b3c8b8187b778645f91bd545bb4b2f50b7fd87c7f   1.901033  1653619635\n",
      "114       Amber  0xc22dff5da50be663ca31e9b4b7d4d6dc887556f3  0x719e02a9ee1bcdc196dffacd40600886dec7c88eb87f71e71476534a389120fc  0x0d4c02037e316304b39e9e37df404198b859738e6c6898dcec7cbed9ada4647f  0xf4e3c63451eeebf9c60435be1a9c64754766caa24206a86d53e715410239342e   0.432215  1653620251\n",
      "115       Amber  0xc22dff5da50be663ca31e9b4b7d4d6dc887556f3  0x5ec538e88bb335502ea80469109f67d96d51f979895730a2b43c957377579fd0  0x3a8a1e43817ec073c88157fdc5a95d9c98a0df5f2c535c1e7ed8ceba9c5fd5a6  0xc7727f138dfa0bfc8c148c5b9e949ae65776cfa032c7d4be36f9f8988c4a3e66   0.392139  1653627060\n",
      "116  VolleyFire  0x579d0b20609414db74d81b293900470f6d6f035b  0xd573d76e6e7c9a071c0e850aca02c943267bf0e3183188b3c8c3f0abd7e46d75  0xf981983171064b48cf18bc090c17a2afe486eb0a3b19edb71df7fe02e8dac2d5  0x92ac5fa5fc69550622982c9c355d4fe1f7256f61c0c9fa31d092cc07689d1cb2   1.147396  1654369406\n",
      "117  VolleyFire  0x579d0b20609414db74d81b293900470f6d6f035b  0xd1a5f5200a63fdb78d63887639740bc3a67626a6f7bb23e3ca63b208ef63e977  0xb8338e0d678b2783ecd52a3e8537e04d244ae8905f8332e6979fb575ed1b7d7e  0x7915a3c19aae830efe80c8875db5b4cd9d133e0fbe9ccb33a7cec5c2df5b9de8   0.968993  1654390168\n",
      "118       Amber  0xc22dff5da50be663ca31e9b4b7d4d6dc887556f3  0x92044dc09279a1f4958a9ecc2cd97e0707682f4573bdb5259e212be1f16189af  0x392613f567c676d917b34a849a4058773ddb47e991dfb90e2b3d383dc22a1cae  0x9962af99e8d75547c7f27702eed2632ad67bd5454d070bf5f6b7f52241f2438e   0.875170  1655103020\n",
      "119  VolleyFire  0x57845987c8c859d52931ee248d8d84ab10532407  0x4f79ad1a2228a2f24cbbb1a7f5695182b0f4dddaa233153761ffd39123dbb410  0xcc8581b70162efd19ac94dc8b6ce84a4e26649e798325dd673d7a77d54fa4595  0x73deb8ec2788c9a0b1fc41d8b3de463953132c58365f8638e750f48acfe0d961   1.054947  1655488193\n",
      "120  VolleyFire  0x57845987c8c859d52931ee248d8d84ab10532407  0xf173c262f235a55971f9004021c111dc01707326705f920997e44577bbcdca79  0x90f1f81b59dc2b00ddcbba45fb5fb8cebe9ce3ab02c5c9eef028a2167dc305be  0x35ca9f6567c9dd376a4dec1852cb68eda4203a199d318fedaa8ac95de55bfb6b   0.553546  1655539874\n",
      "121  VolleyFire  0x57845987c8c859d52931ee248d8d84ab10532407  0xa0616d66d3020054fce53b0440057f858e9702bb3a0f386d8f0eceda5e6c88e5  0xd81da3d2213753cc81cd2deb5c59b4bd70334e836ee9b2f8d053a033416196bf  0xc6d7390d9255de084cd9e9395938c3377bddc5dfc31a828c5598ec8759deefa1   0.000000  1655817428\n",
      "122  VolleyFire  0x57845987c8c859d52931ee248d8d84ab10532407  0x2aa2436029029b9f2a15ac5e3c7f04f2fcfaaf641bebd6f293fe63bd35dfac38  0x0c0b27c8a92e7904ff830768db9a5d8668badbbc80683d390ebbc6d01c696f99  0xb41b7b7149e022a39f513da39632eec765839484a62d28fed422e691ea2f7763   0.693044  1655881893\n"
     ]
    }
   ],
   "source": [
    "print(pp_wash_trades.to_string())"
   ]
  },
  {
   "cell_type": "code",
   "execution_count": 20,
   "id": "e309bdbf",
   "metadata": {},
   "outputs": [
    {
     "name": "stdout",
     "output_type": "stream",
     "text": [
      "122\n"
     ]
    }
   ],
   "source": [
    "print(pp_wash_trades.shape[0])"
   ]
  },
  {
   "cell_type": "code",
   "execution_count": 21,
   "id": "1a617bd1",
   "metadata": {},
   "outputs": [],
   "source": [
    "pp_wash_trades.to_csv(\"~/Desktop/pilotProgramWashTrades.csv\")"
   ]
  },
  {
   "cell_type": "code",
   "execution_count": null,
   "id": "20dbaf56",
   "metadata": {},
   "outputs": [],
   "source": []
  }
 ],
 "metadata": {
  "kernelspec": {
   "display_name": "Python 3 (ipykernel)",
   "language": "python",
   "name": "python3"
  },
  "language_info": {
   "codemirror_mode": {
    "name": "ipython",
    "version": 3
   },
   "file_extension": ".py",
   "mimetype": "text/x-python",
   "name": "python",
   "nbconvert_exporter": "python",
   "pygments_lexer": "ipython3",
   "version": "3.9.12"
  }
 },
 "nbformat": 4,
 "nbformat_minor": 5
}
